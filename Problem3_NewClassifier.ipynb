{
  "nbformat": 4,
  "nbformat_minor": 0,
  "metadata": {
    "colab": {
      "name": "Problem3_NewClassifier",
      "provenance": [],
      "include_colab_link": true
    },
    "kernelspec": {
      "name": "python3",
      "display_name": "Python 3"
    },
    "accelerator": "GPU"
  },
  "cells": [
    {
      "cell_type": "markdown",
      "metadata": {
        "id": "view-in-github",
        "colab_type": "text"
      },
      "source": [
        "<a href=\"https://colab.research.google.com/github/marloncalvo/cap4630-spr2020/blob/master/Problem3_NewClassifier.ipynb\" target=\"_parent\"><img src=\"https://colab.research.google.com/assets/colab-badge.svg\" alt=\"Open In Colab\"/></a>"
      ]
    },
    {
      "cell_type": "markdown",
      "metadata": {
        "id": "KSrgMJ5vKFzQ",
        "colab_type": "text"
      },
      "source": [
        "# Fine-tuning VGG16 "
      ]
    },
    {
      "cell_type": "markdown",
      "metadata": {
        "id": "TIW7bZaAK-Hf",
        "colab_type": "text"
      },
      "source": [
        "This is based on section 5.3 *Using a pretrained convnet* of the book *Deep learning with Python* by Francois Chollet. I have made several changes to the code. I use the data that is already provided by Google. I don't download the data from Kaggle as in the deep learning book."
      ]
    },
    {
      "cell_type": "markdown",
      "metadata": {
        "id": "nsBq__dVo2pj",
        "colab_type": "text"
      },
      "source": [
        "## Feature extraction"
      ]
    },
    {
      "cell_type": "markdown",
      "metadata": {
        "id": "0g6ETAM9o54M",
        "colab_type": "text"
      },
      "source": [
        "Feature extraction consists of using the representations learned by a previous network to extract interesting features from new samples. These features are then run through a new classifier, which is trained from scratch.\n",
        "\n",
        "We will use here the convolutional base of the VGG16 model to extract the features. We will feed these features to a densely connected classifier with dropout. We will fine-tune some layers."
      ]
    },
    {
      "cell_type": "markdown",
      "metadata": {
        "id": "BqIG8QHMLNOn",
        "colab_type": "text"
      },
      "source": [
        "## Download the data"
      ]
    },
    {
      "cell_type": "markdown",
      "metadata": {
        "id": "t3I1jd7cKV6_",
        "colab_type": "text"
      },
      "source": [
        "Download the example data, a zip. of 2,000 JPG pictures of cats and dogs and extract it locally in ```/tmp```.\n",
        "\n"
      ]
    },
    {
      "cell_type": "code",
      "metadata": {
        "id": "JWjprHEXJ5Qi",
        "colab_type": "code",
        "outputId": "a72873b0-d143-4eb9-ecfb-5036ecebcaee",
        "colab": {
          "base_uri": "https://localhost:8080/",
          "height": 204
        }
      },
      "source": [
        "!wget --no-check-certificate \\\n",
        "    https://storage.googleapis.com/mledu-datasets/cats_and_dogs_filtered.zip \\\n",
        "    -O /tmp/cats_and_dogs_filtered.zip"
      ],
      "execution_count": 2,
      "outputs": [
        {
          "output_type": "stream",
          "text": [
            "--2020-04-22 00:59:28--  https://storage.googleapis.com/mledu-datasets/cats_and_dogs_filtered.zip\n",
            "Resolving storage.googleapis.com (storage.googleapis.com)... 74.125.142.128, 2607:f8b0:400e:c04::80\n",
            "Connecting to storage.googleapis.com (storage.googleapis.com)|74.125.142.128|:443... connected.\n",
            "HTTP request sent, awaiting response... 200 OK\n",
            "Length: 68606236 (65M) [application/zip]\n",
            "Saving to: ‘/tmp/cats_and_dogs_filtered.zip’\n",
            "\n",
            "/tmp/cats_and_dogs_ 100%[===================>]  65.43M  88.3MB/s    in 0.7s    \n",
            "\n",
            "2020-04-22 00:59:29 (88.3 MB/s) - ‘/tmp/cats_and_dogs_filtered.zip’ saved [68606236/68606236]\n",
            "\n"
          ],
          "name": "stdout"
        }
      ]
    },
    {
      "cell_type": "code",
      "metadata": {
        "id": "WvoHtdA-K6Rw",
        "colab_type": "code",
        "colab": {}
      },
      "source": [
        "import os\n",
        "import zipfile\n",
        "\n",
        "local_zip = '/tmp/cats_and_dogs_filtered.zip'\n",
        "zip_ref = zipfile.ZipFile(local_zip, 'r')\n",
        "zip_ref.extractall('/tmp')\n",
        "zip_ref.close()"
      ],
      "execution_count": 0,
      "outputs": []
    },
    {
      "cell_type": "markdown",
      "metadata": {
        "id": "shZiOBnJMyy_",
        "colab_type": "text"
      },
      "source": [
        "Note that the data provided by Google does not have a test set."
      ]
    },
    {
      "cell_type": "code",
      "metadata": {
        "id": "dL8ikM89LlsH",
        "colab_type": "code",
        "colab": {}
      },
      "source": [
        "base_dir = '/tmp/cats_and_dogs_filtered'\n",
        "train_dir = os.path.join(base_dir, 'train')\n",
        "validation_dir = os.path.join(base_dir, 'validation')\n",
        "\n",
        "# Directory with our training cat pictures\n",
        "train_cats_dir = os.path.join(train_dir, 'cats')\n",
        "\n",
        "# Directory with our training dog pictures\n",
        "train_dogs_dir = os.path.join(train_dir, 'dogs')\n",
        "\n",
        "# Directory with our validation cat pictures\n",
        "validation_cats_dir = os.path.join(validation_dir, 'cats')\n",
        "\n",
        "# Directory with our validation dog pictures\n",
        "validation_dogs_dir = os.path.join(validation_dir, 'dogs')"
      ],
      "execution_count": 0,
      "outputs": []
    },
    {
      "cell_type": "markdown",
      "metadata": {
        "id": "inyP8bcdXnn-",
        "colab_type": "text"
      },
      "source": [
        "## Build network with VGG16 convolution base and custom densely connected layers"
      ]
    },
    {
      "cell_type": "markdown",
      "metadata": {
        "id": "kQ48W5T9rHWu",
        "colab_type": "text"
      },
      "source": [
        "### Load the convolutional base"
      ]
    },
    {
      "cell_type": "code",
      "metadata": {
        "id": "Y0FgtANCXm_H",
        "colab_type": "code",
        "outputId": "720e253a-6d3e-49f7-bace-3ba1bb4dbdc5",
        "colab": {
          "base_uri": "https://localhost:8080/",
          "height": 105
        }
      },
      "source": [
        "from keras.applications.mobilenet_v2 import MobileNetV2\n",
        "\n",
        "conv_base = MobileNetV2(\n",
        "    weights='imagenet', \n",
        "    include_top=False, \n",
        "    input_shape=(150, 150, 3))"
      ],
      "execution_count": 5,
      "outputs": [
        {
          "output_type": "stream",
          "text": [
            "/usr/local/lib/python3.6/dist-packages/keras_applications/mobilenet_v2.py:294: UserWarning: `input_shape` is undefined or non-square, or `rows` is not in [96, 128, 160, 192, 224]. Weights for input shape (224, 224) will be loaded as the default.\n",
            "  warnings.warn('`input_shape` is undefined or non-square, '\n"
          ],
          "name": "stderr"
        },
        {
          "output_type": "stream",
          "text": [
            "Downloading data from https://github.com/JonathanCMitchell/mobilenet_v2_keras/releases/download/v1.1/mobilenet_v2_weights_tf_dim_ordering_tf_kernels_1.0_224_no_top.h5\n",
            "9412608/9406464 [==============================] - 1s 0us/step\n"
          ],
          "name": "stdout"
        }
      ]
    },
    {
      "cell_type": "markdown",
      "metadata": {
        "id": "D6OBHOO9q1ou",
        "colab_type": "text"
      },
      "source": [
        "### Freeze the convolutional base"
      ]
    },
    {
      "cell_type": "code",
      "metadata": {
        "id": "UleRo4Dpq6Ld",
        "colab_type": "code",
        "colab": {}
      },
      "source": [
        "conv_base.trainable = False"
      ],
      "execution_count": 0,
      "outputs": []
    },
    {
      "cell_type": "markdown",
      "metadata": {
        "id": "Qfx6PqhPrb7Q",
        "colab_type": "text"
      },
      "source": [
        "### Concatenate the convolutional base and densely connected layers"
      ]
    },
    {
      "cell_type": "code",
      "metadata": {
        "id": "qUpmocDAO3xm",
        "colab_type": "code",
        "colab": {}
      },
      "source": [
        "from keras import layers\n",
        "from keras import models\n",
        "from keras import optimizers\n",
        "\n",
        "model = models.Sequential()\n",
        "model.add(conv_base)\n",
        "model.add(layers.GlobalMaxPooling2D())\n",
        "model.add(layers.Dense(256, activation='relu'))\n",
        "#model.add(layers.Dropout(0.1))\n",
        "model.add(layers.Dense(1, activation='sigmoid'))"
      ],
      "execution_count": 0,
      "outputs": []
    },
    {
      "cell_type": "code",
      "metadata": {
        "id": "Fh6gZSeAjF7c",
        "colab_type": "code",
        "outputId": "b5bfe0f8-388c-4905-98bb-87c7c895b6d1",
        "colab": {
          "base_uri": "https://localhost:8080/",
          "height": 289
        }
      },
      "source": [
        "model.summary()"
      ],
      "execution_count": 8,
      "outputs": [
        {
          "output_type": "stream",
          "text": [
            "Model: \"sequential_2\"\n",
            "_________________________________________________________________\n",
            "Layer (type)                 Output Shape              Param #   \n",
            "=================================================================\n",
            "mobilenetv2_1.00_224 (Model) (None, 5, 5, 1280)        2257984   \n",
            "_________________________________________________________________\n",
            "global_max_pooling2d_1 (Glob (None, 1280)              0         \n",
            "_________________________________________________________________\n",
            "dense_1 (Dense)              (None, 256)               327936    \n",
            "_________________________________________________________________\n",
            "dense_2 (Dense)              (None, 1)                 257       \n",
            "=================================================================\n",
            "Total params: 2,586,177\n",
            "Trainable params: 328,193\n",
            "Non-trainable params: 2,257,984\n",
            "_________________________________________________________________\n"
          ],
          "name": "stdout"
        }
      ]
    },
    {
      "cell_type": "markdown",
      "metadata": {
        "id": "eZjBiddhi5Qj",
        "colab_type": "text"
      },
      "source": [
        "## Train the model end to end with frozen convolutional base"
      ]
    },
    {
      "cell_type": "code",
      "metadata": {
        "id": "tfAQlC2Oi41L",
        "colab_type": "code",
        "outputId": "ffb5f62c-3c07-4fbb-e987-b297f78a5e82",
        "colab": {
          "base_uri": "https://localhost:8080/",
          "height": 1000
        }
      },
      "source": [
        "from keras.preprocessing.image import ImageDataGenerator\n",
        "from keras import optimizers\n",
        "\n",
        "# data augmentation\n",
        "\n",
        "train_datagen = ImageDataGenerator(\n",
        "    rescale=1./255, \n",
        "    rotation_range=40,\n",
        "    width_shift_range=0.2,\n",
        "    height_shift_range=0.2,\n",
        "    shear_range=0.2,\n",
        "    zoom_range=0.2,\n",
        "    horizontal_flip=True,\n",
        "    fill_mode='nearest'\n",
        ")\n",
        "\n",
        "train_generator = train_datagen.flow_from_directory(\n",
        "    train_dir,\n",
        "    target_size=(150, 150),\n",
        "    batch_size=20,\n",
        "    class_mode='binary')\n",
        "\n",
        "validation_datagen = ImageDataGenerator(rescale=1./255)\n",
        "\n",
        "validation_generator = validation_datagen.flow_from_directory(\n",
        "    validation_dir,\n",
        "    target_size=(150, 150),\n",
        "    batch_size=20,\n",
        "    class_mode='binary')\n",
        "\n",
        "# compile model\n",
        "\n",
        "model.compile(\n",
        "    loss='binary_crossentropy', \n",
        "    optimizer=optimizers.RMSprop(lr=2e-5), \n",
        "    metrics=['acc'])\n",
        "\n",
        "# train\n",
        "\n",
        "history = model.fit_generator(\n",
        "    train_generator,\n",
        "    steps_per_epoch=100,\n",
        "    epochs=30,\n",
        "    validation_data=validation_generator,\n",
        "    validation_steps=50\n",
        ")"
      ],
      "execution_count": 9,
      "outputs": [
        {
          "output_type": "stream",
          "text": [
            "Found 2000 images belonging to 2 classes.\n",
            "Found 1000 images belonging to 2 classes.\n",
            "Epoch 1/30\n",
            "100/100 [==============================] - 25s 246ms/step - loss: 0.9384 - acc: 0.6240 - val_loss: 0.5091 - val_acc: 0.7730\n",
            "Epoch 2/30\n",
            "100/100 [==============================] - 16s 159ms/step - loss: 0.5675 - acc: 0.7505 - val_loss: 0.9051 - val_acc: 0.8140\n",
            "Epoch 3/30\n",
            "100/100 [==============================] - 16s 159ms/step - loss: 0.5005 - acc: 0.7955 - val_loss: 0.2723 - val_acc: 0.8580\n",
            "Epoch 4/30\n",
            "100/100 [==============================] - 16s 160ms/step - loss: 0.4421 - acc: 0.8145 - val_loss: 0.6430 - val_acc: 0.8740\n",
            "Epoch 5/30\n",
            "100/100 [==============================] - 16s 161ms/step - loss: 0.3931 - acc: 0.8300 - val_loss: 0.2392 - val_acc: 0.8740\n",
            "Epoch 6/30\n",
            "100/100 [==============================] - 16s 160ms/step - loss: 0.3681 - acc: 0.8405 - val_loss: 0.2205 - val_acc: 0.8750\n",
            "Epoch 7/30\n",
            "100/100 [==============================] - 16s 160ms/step - loss: 0.3906 - acc: 0.8430 - val_loss: 0.0996 - val_acc: 0.9170\n",
            "Epoch 8/30\n",
            "100/100 [==============================] - 16s 161ms/step - loss: 0.3941 - acc: 0.8480 - val_loss: 0.6702 - val_acc: 0.8890\n",
            "Epoch 9/30\n",
            "100/100 [==============================] - 16s 160ms/step - loss: 0.3415 - acc: 0.8600 - val_loss: 0.2319 - val_acc: 0.8750\n",
            "Epoch 10/30\n",
            "100/100 [==============================] - 16s 160ms/step - loss: 0.3756 - acc: 0.8475 - val_loss: 0.2702 - val_acc: 0.8770\n",
            "Epoch 11/30\n",
            "100/100 [==============================] - 16s 160ms/step - loss: 0.3477 - acc: 0.8565 - val_loss: 0.4390 - val_acc: 0.8680\n",
            "Epoch 12/30\n",
            "100/100 [==============================] - 16s 158ms/step - loss: 0.3528 - acc: 0.8600 - val_loss: 0.7593 - val_acc: 0.8770\n",
            "Epoch 13/30\n",
            "100/100 [==============================] - 16s 160ms/step - loss: 0.3354 - acc: 0.8735 - val_loss: 0.1849 - val_acc: 0.8990\n",
            "Epoch 14/30\n",
            "100/100 [==============================] - 16s 160ms/step - loss: 0.3195 - acc: 0.8680 - val_loss: 0.3042 - val_acc: 0.8910\n",
            "Epoch 15/30\n",
            "100/100 [==============================] - 16s 160ms/step - loss: 0.3511 - acc: 0.8530 - val_loss: 0.1351 - val_acc: 0.8640\n",
            "Epoch 16/30\n",
            "100/100 [==============================] - 16s 160ms/step - loss: 0.3066 - acc: 0.8710 - val_loss: 1.0560 - val_acc: 0.8720\n",
            "Epoch 17/30\n",
            "100/100 [==============================] - 16s 160ms/step - loss: 0.3212 - acc: 0.8665 - val_loss: 0.1969 - val_acc: 0.8820\n",
            "Epoch 18/30\n",
            "100/100 [==============================] - 16s 158ms/step - loss: 0.2951 - acc: 0.8785 - val_loss: 0.0338 - val_acc: 0.9160\n",
            "Epoch 19/30\n",
            "100/100 [==============================] - 16s 161ms/step - loss: 0.3003 - acc: 0.8705 - val_loss: 0.2202 - val_acc: 0.8920\n",
            "Epoch 20/30\n",
            "100/100 [==============================] - 16s 160ms/step - loss: 0.3022 - acc: 0.8715 - val_loss: 0.4663 - val_acc: 0.8690\n",
            "Epoch 21/30\n",
            "100/100 [==============================] - 16s 158ms/step - loss: 0.3246 - acc: 0.8675 - val_loss: 0.3391 - val_acc: 0.9130\n",
            "Epoch 22/30\n",
            "100/100 [==============================] - 16s 160ms/step - loss: 0.3073 - acc: 0.8760 - val_loss: 0.0685 - val_acc: 0.9170\n",
            "Epoch 23/30\n",
            "100/100 [==============================] - 16s 159ms/step - loss: 0.3100 - acc: 0.8770 - val_loss: 0.2083 - val_acc: 0.9230\n",
            "Epoch 24/30\n",
            "100/100 [==============================] - 16s 159ms/step - loss: 0.3512 - acc: 0.8580 - val_loss: 0.3555 - val_acc: 0.8510\n",
            "Epoch 25/30\n",
            "100/100 [==============================] - 16s 163ms/step - loss: 0.3078 - acc: 0.8695 - val_loss: 0.6576 - val_acc: 0.8710\n",
            "Epoch 26/30\n",
            "100/100 [==============================] - 16s 160ms/step - loss: 0.3093 - acc: 0.8680 - val_loss: 0.3555 - val_acc: 0.9060\n",
            "Epoch 27/30\n",
            "100/100 [==============================] - 16s 159ms/step - loss: 0.2646 - acc: 0.8865 - val_loss: 0.3416 - val_acc: 0.8980\n",
            "Epoch 28/30\n",
            "100/100 [==============================] - 16s 160ms/step - loss: 0.3030 - acc: 0.8780 - val_loss: 0.0562 - val_acc: 0.8960\n",
            "Epoch 29/30\n",
            "100/100 [==============================] - 16s 161ms/step - loss: 0.3157 - acc: 0.8710 - val_loss: 0.3561 - val_acc: 0.8850\n",
            "Epoch 30/30\n",
            "100/100 [==============================] - 16s 160ms/step - loss: 0.2708 - acc: 0.8865 - val_loss: 0.4645 - val_acc: 0.8970\n"
          ],
          "name": "stdout"
        }
      ]
    },
    {
      "cell_type": "markdown",
      "metadata": {
        "id": "xqRc_vHKc92U",
        "colab_type": "text"
      },
      "source": [
        "## Display curves of loss and accuracy during training"
      ]
    },
    {
      "cell_type": "code",
      "metadata": {
        "id": "ybWwdzz9bwuQ",
        "colab_type": "code",
        "outputId": "170bef7a-5f11-4332-f17f-321f30a7f342",
        "colab": {
          "base_uri": "https://localhost:8080/",
          "height": 545
        }
      },
      "source": [
        "%matplotlib inline\n",
        "\n",
        "import matplotlib.pyplot as plt\n",
        "\n",
        "acc = history.history['acc']\n",
        "val_acc = history.history['val_acc']\n",
        "\n",
        "loss = history.history['loss']\n",
        "val_loss = history.history['val_loss']\n",
        "\n",
        "epochs = range(1, len(acc) + 1)\n",
        "\n",
        "# training and validation accuracy\n",
        "\n",
        "plt.plot(epochs, acc, 'bo', label='training acc')\n",
        "plt.plot(epochs, val_acc, 'b', label='validation acc')\n",
        "plt.title('training and validation accuracy')\n",
        "plt.legend()\n",
        "\n",
        "plt.figure()\n",
        "\n",
        "# training and validation loss\n",
        "\n",
        "plt.plot(epochs, loss, 'bo', label='training loss')\n",
        "plt.plot(epochs, val_loss, 'b', label='validation loss')\n",
        "plt.title('training and validation loss')\n",
        "plt.legend()\n",
        "\n",
        "plt.show()"
      ],
      "execution_count": 10,
      "outputs": [
        {
          "output_type": "display_data",
          "data": {
            "image/png": "[encoded data removed]",
            "text/plain": [
              "<Figure size 432x288 with 1 Axes>"
            ]
          },
          "metadata": {
            "tags": [],
            "needs_background": "light"
          }
        },
        {
          "output_type": "display_data",
          "data": {
            "image/png": "[encoded data removed]",
            "text/plain": [
              "<Figure size 432x288 with 1 Axes>"
            ]
          },
          "metadata": {
            "tags": [],
            "needs_background": "light"
          }
        }
      ]
    },
    {
      "cell_type": "markdown",
      "metadata": {
        "id": "lOWsxpey8lN0",
        "colab_type": "text"
      },
      "source": [
        "## Fine-tuning"
      ]
    },
    {
      "cell_type": "code",
      "metadata": {
        "id": "PwkVMx8N8qMw",
        "colab_type": "code",
        "colab": {}
      },
      "source": [
        "conv_base.trainable = True\n",
        "\n",
        "set_trainable = False\n",
        "for layer in conv_base.layers:\n",
        "  if '_expand' in layer.name or '_project' in layer.name:\n",
        "    set_trainable = True\n",
        "  if set_trainable:\n",
        "    layer.trainable = True\n",
        "  else:\n",
        "    layer.trainable = False"
      ],
      "execution_count": 0,
      "outputs": []
    },
    {
      "cell_type": "code",
      "metadata": {
        "id": "DyN-J7rs9cvo",
        "colab_type": "code",
        "outputId": "bbdc905e-1b2c-4286-b227-a9e2bb136c02",
        "colab": {
          "base_uri": "https://localhost:8080/",
          "height": 1000
        }
      },
      "source": [
        "# compile model\n",
        "\n",
        "model.compile(\n",
        "    loss='binary_crossentropy',\n",
        "    #\n",
        "    # choose a smaller learning rate\n",
        "    #\n",
        "    optimizer=optimizers.RMSprop(lr=1e-5), \n",
        "    metrics=['acc'])\n",
        "\n",
        "# train\n",
        "\n",
        "history = model.fit_generator(\n",
        "    train_generator,\n",
        "    steps_per_epoch=100,\n",
        "    epochs=100,\n",
        "    validation_data=validation_generator,\n",
        "    validation_steps=50)"
      ],
      "execution_count": 14,
      "outputs": [
        {
          "output_type": "stream",
          "text": [
            "Epoch 1/100\n",
            "100/100 [==============================] - 30s 304ms/step - loss: 0.2624 - acc: 0.8870 - val_loss: 0.4080 - val_acc: 0.8990\n",
            "Epoch 2/100\n",
            "100/100 [==============================] - 20s 200ms/step - loss: 0.2615 - acc: 0.8955 - val_loss: 0.0128 - val_acc: 0.9380\n",
            "Epoch 3/100\n",
            "100/100 [==============================] - 20s 201ms/step - loss: 0.2685 - acc: 0.8960 - val_loss: 0.1330 - val_acc: 0.9480\n",
            "Epoch 4/100\n",
            "100/100 [==============================] - 20s 199ms/step - loss: 0.2635 - acc: 0.8915 - val_loss: 0.0190 - val_acc: 0.9470\n",
            "Epoch 5/100\n",
            "100/100 [==============================] - 20s 201ms/step - loss: 0.2448 - acc: 0.9020 - val_loss: 0.5070 - val_acc: 0.9480\n",
            "Epoch 6/100\n",
            "100/100 [==============================] - 20s 201ms/step - loss: 0.2098 - acc: 0.9105 - val_loss: 0.0421 - val_acc: 0.9480\n",
            "Epoch 7/100\n",
            "100/100 [==============================] - 20s 203ms/step - loss: 0.2302 - acc: 0.9050 - val_loss: 0.0660 - val_acc: 0.9510\n",
            "Epoch 8/100\n",
            "100/100 [==============================] - 20s 200ms/step - loss: 0.2194 - acc: 0.9040 - val_loss: 0.0851 - val_acc: 0.9530\n",
            "Epoch 9/100\n",
            "100/100 [==============================] - 20s 201ms/step - loss: 0.2092 - acc: 0.9175 - val_loss: 0.0070 - val_acc: 0.9500\n",
            "Epoch 10/100\n",
            "100/100 [==============================] - 20s 200ms/step - loss: 0.2000 - acc: 0.9160 - val_loss: 0.0485 - val_acc: 0.9530\n",
            "Epoch 11/100\n",
            "100/100 [==============================] - 20s 201ms/step - loss: 0.1961 - acc: 0.9220 - val_loss: 0.0305 - val_acc: 0.9580\n",
            "Epoch 12/100\n",
            "100/100 [==============================] - 20s 199ms/step - loss: 0.1952 - acc: 0.9240 - val_loss: 0.0165 - val_acc: 0.9610\n",
            "Epoch 13/100\n",
            "100/100 [==============================] - 20s 200ms/step - loss: 0.1762 - acc: 0.9260 - val_loss: 0.0646 - val_acc: 0.9580\n",
            "Epoch 14/100\n",
            "100/100 [==============================] - 20s 200ms/step - loss: 0.1829 - acc: 0.9280 - val_loss: 0.0528 - val_acc: 0.9570\n",
            "Epoch 15/100\n",
            "100/100 [==============================] - 20s 201ms/step - loss: 0.1631 - acc: 0.9335 - val_loss: 0.0443 - val_acc: 0.9540\n",
            "Epoch 16/100\n",
            "100/100 [==============================] - 20s 201ms/step - loss: 0.1624 - acc: 0.9320 - val_loss: 0.1119 - val_acc: 0.9540\n",
            "Epoch 17/100\n",
            "100/100 [==============================] - 20s 200ms/step - loss: 0.1530 - acc: 0.9400 - val_loss: 0.1274 - val_acc: 0.9470\n",
            "Epoch 18/100\n",
            "100/100 [==============================] - 20s 199ms/step - loss: 0.1618 - acc: 0.9405 - val_loss: 0.0934 - val_acc: 0.9460\n",
            "Epoch 19/100\n",
            "100/100 [==============================] - 20s 202ms/step - loss: 0.1516 - acc: 0.9420 - val_loss: 0.0350 - val_acc: 0.9450\n",
            "Epoch 20/100\n",
            "100/100 [==============================] - 20s 199ms/step - loss: 0.1477 - acc: 0.9440 - val_loss: 0.3908 - val_acc: 0.9490\n",
            "Epoch 21/100\n",
            "100/100 [==============================] - 20s 200ms/step - loss: 0.1482 - acc: 0.9410 - val_loss: 0.0099 - val_acc: 0.9410\n",
            "Epoch 22/100\n",
            "100/100 [==============================] - 20s 200ms/step - loss: 0.1608 - acc: 0.9325 - val_loss: 0.1142 - val_acc: 0.9400\n",
            "Epoch 23/100\n",
            "100/100 [==============================] - 20s 201ms/step - loss: 0.1452 - acc: 0.9465 - val_loss: 0.0448 - val_acc: 0.9340\n",
            "Epoch 24/100\n",
            "100/100 [==============================] - 20s 201ms/step - loss: 0.1334 - acc: 0.9445 - val_loss: 0.0617 - val_acc: 0.9400\n",
            "Epoch 25/100\n",
            "100/100 [==============================] - 20s 201ms/step - loss: 0.1479 - acc: 0.9410 - val_loss: 0.0644 - val_acc: 0.9340\n",
            "Epoch 26/100\n",
            "100/100 [==============================] - 20s 199ms/step - loss: 0.1331 - acc: 0.9465 - val_loss: 0.2597 - val_acc: 0.9430\n",
            "Epoch 27/100\n",
            "100/100 [==============================] - 20s 201ms/step - loss: 0.1294 - acc: 0.9490 - val_loss: 0.2346 - val_acc: 0.9340\n",
            "Epoch 28/100\n",
            "100/100 [==============================] - 20s 200ms/step - loss: 0.1276 - acc: 0.9525 - val_loss: 0.0649 - val_acc: 0.9440\n",
            "Epoch 29/100\n",
            "100/100 [==============================] - 20s 201ms/step - loss: 0.1231 - acc: 0.9475 - val_loss: 0.1541 - val_acc: 0.9450\n",
            "Epoch 30/100\n",
            "100/100 [==============================] - 20s 200ms/step - loss: 0.1178 - acc: 0.9520 - val_loss: 0.1185 - val_acc: 0.9410\n",
            "Epoch 31/100\n",
            "100/100 [==============================] - 20s 202ms/step - loss: 0.1156 - acc: 0.9580 - val_loss: 0.2870 - val_acc: 0.9390\n",
            "Epoch 32/100\n",
            "100/100 [==============================] - 20s 202ms/step - loss: 0.1056 - acc: 0.9605 - val_loss: 0.0903 - val_acc: 0.9420\n",
            "Epoch 33/100\n",
            "100/100 [==============================] - 20s 200ms/step - loss: 0.1009 - acc: 0.9605 - val_loss: 0.1141 - val_acc: 0.9430\n",
            "Epoch 34/100\n",
            "100/100 [==============================] - 20s 200ms/step - loss: 0.1066 - acc: 0.9635 - val_loss: 0.1481 - val_acc: 0.9430\n",
            "Epoch 35/100\n",
            "100/100 [==============================] - 20s 201ms/step - loss: 0.1077 - acc: 0.9605 - val_loss: 0.2333 - val_acc: 0.9430\n",
            "Epoch 36/100\n",
            "100/100 [==============================] - 20s 200ms/step - loss: 0.1006 - acc: 0.9610 - val_loss: 0.0651 - val_acc: 0.9380\n",
            "Epoch 37/100\n",
            "100/100 [==============================] - 20s 201ms/step - loss: 0.1204 - acc: 0.9560 - val_loss: 0.0717 - val_acc: 0.9450\n",
            "Epoch 38/100\n",
            "100/100 [==============================] - 20s 200ms/step - loss: 0.0960 - acc: 0.9595 - val_loss: 0.0095 - val_acc: 0.9490\n",
            "Epoch 39/100\n",
            "100/100 [==============================] - 20s 201ms/step - loss: 0.0816 - acc: 0.9650 - val_loss: 0.1824 - val_acc: 0.9470\n",
            "Epoch 40/100\n",
            "100/100 [==============================] - 20s 201ms/step - loss: 0.0869 - acc: 0.9630 - val_loss: 0.0767 - val_acc: 0.9540\n",
            "Epoch 41/100\n",
            "100/100 [==============================] - 20s 200ms/step - loss: 0.0869 - acc: 0.9700 - val_loss: 0.2979 - val_acc: 0.9540\n",
            "Epoch 42/100\n",
            "100/100 [==============================] - 20s 201ms/step - loss: 0.1122 - acc: 0.9580 - val_loss: 0.0217 - val_acc: 0.9510\n",
            "Epoch 43/100\n",
            "100/100 [==============================] - 20s 202ms/step - loss: 0.0882 - acc: 0.9670 - val_loss: 0.0428 - val_acc: 0.9490\n",
            "Epoch 44/100\n",
            "100/100 [==============================] - 20s 200ms/step - loss: 0.0772 - acc: 0.9710 - val_loss: 0.0106 - val_acc: 0.9520\n",
            "Epoch 45/100\n",
            "100/100 [==============================] - 20s 199ms/step - loss: 0.0886 - acc: 0.9655 - val_loss: 0.1875 - val_acc: 0.9510\n",
            "Epoch 46/100\n",
            "100/100 [==============================] - 20s 201ms/step - loss: 0.0705 - acc: 0.9730 - val_loss: 0.0052 - val_acc: 0.9520\n",
            "Epoch 47/100\n",
            "100/100 [==============================] - 20s 203ms/step - loss: 0.0815 - acc: 0.9690 - val_loss: 0.0967 - val_acc: 0.9510\n",
            "Epoch 48/100\n",
            "100/100 [==============================] - 20s 200ms/step - loss: 0.0979 - acc: 0.9610 - val_loss: 0.2108 - val_acc: 0.9580\n",
            "Epoch 49/100\n",
            "100/100 [==============================] - 20s 200ms/step - loss: 0.0791 - acc: 0.9690 - val_loss: 0.0222 - val_acc: 0.9520\n",
            "Epoch 50/100\n",
            "100/100 [==============================] - 20s 201ms/step - loss: 0.0651 - acc: 0.9770 - val_loss: 0.1744 - val_acc: 0.9530\n",
            "Epoch 51/100\n",
            "100/100 [==============================] - 20s 201ms/step - loss: 0.0814 - acc: 0.9690 - val_loss: 0.0665 - val_acc: 0.9490\n",
            "Epoch 52/100\n",
            "100/100 [==============================] - 20s 200ms/step - loss: 0.0674 - acc: 0.9705 - val_loss: 0.0195 - val_acc: 0.9470\n",
            "Epoch 53/100\n",
            "100/100 [==============================] - 20s 198ms/step - loss: 0.0619 - acc: 0.9805 - val_loss: 0.0570 - val_acc: 0.9490\n",
            "Epoch 54/100\n",
            "100/100 [==============================] - 20s 200ms/step - loss: 0.0812 - acc: 0.9690 - val_loss: 0.0335 - val_acc: 0.9520\n",
            "Epoch 55/100\n",
            "100/100 [==============================] - 20s 201ms/step - loss: 0.0689 - acc: 0.9710 - val_loss: 0.2977 - val_acc: 0.9530\n",
            "Epoch 56/100\n",
            "100/100 [==============================] - 20s 199ms/step - loss: 0.0674 - acc: 0.9760 - val_loss: 0.4266 - val_acc: 0.9510\n",
            "Epoch 57/100\n",
            "100/100 [==============================] - 20s 199ms/step - loss: 0.0761 - acc: 0.9695 - val_loss: 0.1605 - val_acc: 0.9510\n",
            "Epoch 58/100\n",
            "100/100 [==============================] - 20s 200ms/step - loss: 0.0551 - acc: 0.9815 - val_loss: 0.0649 - val_acc: 0.9550\n",
            "Epoch 59/100\n",
            "100/100 [==============================] - 20s 200ms/step - loss: 0.0691 - acc: 0.9720 - val_loss: 0.0162 - val_acc: 0.9540\n",
            "Epoch 60/100\n",
            "100/100 [==============================] - 20s 200ms/step - loss: 0.0693 - acc: 0.9740 - val_loss: 0.3048 - val_acc: 0.9480\n",
            "Epoch 61/100\n",
            "100/100 [==============================] - 20s 199ms/step - loss: 0.0715 - acc: 0.9740 - val_loss: 0.0239 - val_acc: 0.9520\n",
            "Epoch 62/100\n",
            "100/100 [==============================] - 20s 199ms/step - loss: 0.0575 - acc: 0.9810 - val_loss: 0.0948 - val_acc: 0.9560\n",
            "Epoch 63/100\n",
            "100/100 [==============================] - 20s 203ms/step - loss: 0.0502 - acc: 0.9835 - val_loss: 0.0066 - val_acc: 0.9580\n",
            "Epoch 64/100\n",
            "100/100 [==============================] - 20s 199ms/step - loss: 0.0492 - acc: 0.9810 - val_loss: 0.1933 - val_acc: 0.9540\n",
            "Epoch 65/100\n",
            "100/100 [==============================] - 20s 200ms/step - loss: 0.0531 - acc: 0.9790 - val_loss: 0.0771 - val_acc: 0.9520\n",
            "Epoch 66/100\n",
            "100/100 [==============================] - 20s 200ms/step - loss: 0.0677 - acc: 0.9760 - val_loss: 0.0517 - val_acc: 0.9550\n",
            "Epoch 67/100\n",
            "100/100 [==============================] - 20s 201ms/step - loss: 0.0470 - acc: 0.9840 - val_loss: 0.1265 - val_acc: 0.9530\n",
            "Epoch 68/100\n",
            "100/100 [==============================] - 20s 200ms/step - loss: 0.0774 - acc: 0.9715 - val_loss: 0.0034 - val_acc: 0.9530\n",
            "Epoch 69/100\n",
            "100/100 [==============================] - 20s 200ms/step - loss: 0.0455 - acc: 0.9825 - val_loss: 0.1349 - val_acc: 0.9570\n",
            "Epoch 70/100\n",
            "100/100 [==============================] - 20s 200ms/step - loss: 0.0501 - acc: 0.9820 - val_loss: 0.0115 - val_acc: 0.9570\n",
            "Epoch 71/100\n",
            "100/100 [==============================] - 20s 201ms/step - loss: 0.0468 - acc: 0.9815 - val_loss: 0.2568 - val_acc: 0.9560\n",
            "Epoch 72/100\n",
            "100/100 [==============================] - 20s 199ms/step - loss: 0.0464 - acc: 0.9850 - val_loss: 0.2298 - val_acc: 0.9490\n",
            "Epoch 73/100\n",
            "100/100 [==============================] - 20s 199ms/step - loss: 0.0494 - acc: 0.9800 - val_loss: 0.0274 - val_acc: 0.9560\n",
            "Epoch 74/100\n",
            "100/100 [==============================] - 20s 200ms/step - loss: 0.0562 - acc: 0.9815 - val_loss: 0.1225 - val_acc: 0.9580\n",
            "Epoch 75/100\n",
            "100/100 [==============================] - 20s 201ms/step - loss: 0.0544 - acc: 0.9815 - val_loss: 0.0048 - val_acc: 0.9560\n",
            "Epoch 76/100\n",
            "100/100 [==============================] - 20s 200ms/step - loss: 0.0507 - acc: 0.9825 - val_loss: 0.0319 - val_acc: 0.9540\n",
            "Epoch 77/100\n",
            "100/100 [==============================] - 20s 200ms/step - loss: 0.0316 - acc: 0.9875 - val_loss: 0.1794 - val_acc: 0.9530\n",
            "Epoch 78/100\n",
            "100/100 [==============================] - 20s 201ms/step - loss: 0.0414 - acc: 0.9855 - val_loss: 0.0146 - val_acc: 0.9540\n",
            "Epoch 79/100\n",
            "100/100 [==============================] - 20s 202ms/step - loss: 0.0385 - acc: 0.9845 - val_loss: 0.3694 - val_acc: 0.9520\n",
            "Epoch 80/100\n",
            "100/100 [==============================] - 20s 200ms/step - loss: 0.0441 - acc: 0.9810 - val_loss: 0.0777 - val_acc: 0.9550\n",
            "Epoch 81/100\n",
            "100/100 [==============================] - 20s 199ms/step - loss: 0.0410 - acc: 0.9840 - val_loss: 0.0385 - val_acc: 0.9520\n",
            "Epoch 82/100\n",
            "100/100 [==============================] - 20s 200ms/step - loss: 0.0432 - acc: 0.9815 - val_loss: 0.0333 - val_acc: 0.9550\n",
            "Epoch 83/100\n",
            "100/100 [==============================] - 20s 201ms/step - loss: 0.0305 - acc: 0.9865 - val_loss: 0.2714 - val_acc: 0.9540\n",
            "Epoch 84/100\n",
            "100/100 [==============================] - 20s 200ms/step - loss: 0.0518 - acc: 0.9805 - val_loss: 0.5015 - val_acc: 0.9510\n",
            "Epoch 85/100\n",
            "100/100 [==============================] - 20s 200ms/step - loss: 0.0385 - acc: 0.9860 - val_loss: 0.0010 - val_acc: 0.9510\n",
            "Epoch 86/100\n",
            "100/100 [==============================] - 20s 199ms/step - loss: 0.0546 - acc: 0.9825 - val_loss: 0.1135 - val_acc: 0.9510\n",
            "Epoch 87/100\n",
            "100/100 [==============================] - 20s 201ms/step - loss: 0.0370 - acc: 0.9910 - val_loss: 0.0121 - val_acc: 0.9560\n",
            "Epoch 88/100\n",
            "100/100 [==============================] - 20s 200ms/step - loss: 0.0383 - acc: 0.9880 - val_loss: 0.3707 - val_acc: 0.9560\n",
            "Epoch 89/100\n",
            "100/100 [==============================] - 20s 200ms/step - loss: 0.0372 - acc: 0.9855 - val_loss: 0.1391 - val_acc: 0.9560\n",
            "Epoch 90/100\n",
            "100/100 [==============================] - 21s 206ms/step - loss: 0.0526 - acc: 0.9805 - val_loss: 0.0034 - val_acc: 0.9610\n",
            "Epoch 91/100\n",
            "100/100 [==============================] - 20s 202ms/step - loss: 0.0297 - acc: 0.9885 - val_loss: 0.1232 - val_acc: 0.9550\n",
            "Epoch 92/100\n",
            "100/100 [==============================] - 20s 201ms/step - loss: 0.0259 - acc: 0.9900 - val_loss: 0.3387 - val_acc: 0.9580\n",
            "Epoch 93/100\n",
            "100/100 [==============================] - 20s 200ms/step - loss: 0.0324 - acc: 0.9860 - val_loss: 0.0254 - val_acc: 0.9610\n",
            "Epoch 94/100\n",
            "100/100 [==============================] - 20s 203ms/step - loss: 0.0486 - acc: 0.9815 - val_loss: 0.0033 - val_acc: 0.9530\n",
            "Epoch 95/100\n",
            "100/100 [==============================] - 20s 202ms/step - loss: 0.0399 - acc: 0.9840 - val_loss: 0.0081 - val_acc: 0.9570\n",
            "Epoch 96/100\n",
            "100/100 [==============================] - 20s 201ms/step - loss: 0.0319 - acc: 0.9890 - val_loss: 0.0060 - val_acc: 0.9530\n",
            "Epoch 97/100\n",
            "100/100 [==============================] - 20s 201ms/step - loss: 0.0368 - acc: 0.9875 - val_loss: 3.1449e-04 - val_acc: 0.9580\n",
            "Epoch 98/100\n",
            "100/100 [==============================] - 20s 201ms/step - loss: 0.0325 - acc: 0.9890 - val_loss: 0.0028 - val_acc: 0.9570\n",
            "Epoch 99/100\n",
            "100/100 [==============================] - 20s 203ms/step - loss: 0.0353 - acc: 0.9870 - val_loss: 0.0675 - val_acc: 0.9550\n",
            "Epoch 100/100\n",
            "100/100 [==============================] - 20s 201ms/step - loss: 0.0307 - acc: 0.9890 - val_loss: 0.0017 - val_acc: 0.9580\n"
          ],
          "name": "stdout"
        }
      ]
    },
    {
      "cell_type": "markdown",
      "metadata": {
        "id": "eVBQgh5M-Rtz",
        "colab_type": "text"
      },
      "source": [
        "## Display learning curves during fine-tuning"
      ]
    },
    {
      "cell_type": "code",
      "metadata": {
        "id": "mbkIw7Ie-NP4",
        "colab_type": "code",
        "outputId": "e63d3cad-3de8-432d-aca5-2ad9d238e22c",
        "colab": {
          "base_uri": "https://localhost:8080/",
          "height": 545
        }
      },
      "source": [
        "%matplotlib inline\n",
        "\n",
        "import matplotlib.pyplot as plt\n",
        "\n",
        "acc = history.history['acc']\n",
        "val_acc = history.history['val_acc']\n",
        "\n",
        "loss = history.history['loss']\n",
        "val_loss = history.history['val_loss']\n",
        "\n",
        "epochs = range(1, len(acc) + 1)\n",
        "\n",
        "# training and validation accuracy\n",
        "\n",
        "plt.plot(epochs, acc, 'bo', label='training acc')\n",
        "plt.plot(epochs, val_acc, 'b', label='validation acc')\n",
        "plt.title('training and validation accuracy')\n",
        "plt.legend()\n",
        "\n",
        "plt.figure()\n",
        "\n",
        "# training and validation loss\n",
        "\n",
        "plt.plot(epochs, loss, 'bo', label='training loss')\n",
        "plt.plot(epochs, val_loss, 'b', label='validation loss')\n",
        "plt.title('training and validation loss')\n",
        "plt.legend()\n",
        "\n",
        "plt.show()"
      ],
      "execution_count": 15,
      "outputs": [
        {
          "output_type": "display_data",
          "data": {
            "image/png": "[encoded data removed]",
            "text/plain": [
              "<Figure size 432x288 with 1 Axes>"
            ]
          },
          "metadata": {
            "tags": [],
            "needs_background": "light"
          }
        },
        {
          "output_type": "display_data",
          "data": {
            "image/png": "[encoded data removed]",
            "text/plain": [
              "<Figure size 432x288 with 1 Axes>"
            ]
          },
          "metadata": {
            "tags": [],
            "needs_background": "light"
          }
        }
      ]
    },
    {
      "cell_type": "markdown",
      "metadata": {
        "id": "obQi6N4ZShdi",
        "colab_type": "text"
      },
      "source": [
        "This looks like overfitting. I should try  adding dropout for the densely connected layer."
      ]
    },
    {
      "cell_type": "markdown",
      "metadata": {
        "id": "he3Nw6TOJwjx",
        "colab_type": "text"
      },
      "source": [
        "## Print out validation loss and accuracy"
      ]
    },
    {
      "cell_type": "code",
      "metadata": {
        "id": "SVQtrk7uJdhl",
        "colab_type": "code",
        "colab": {}
      },
      "source": [
        "val_loss, val_acc = model.evaluate_generator(validation_generator, steps=50)"
      ],
      "execution_count": 0,
      "outputs": []
    },
    {
      "cell_type": "code",
      "metadata": {
        "id": "HpdddLi1SUMe",
        "colab_type": "code",
        "outputId": "6aacc240-6359-4906-e389-bede9f1425a1",
        "colab": {
          "base_uri": "https://localhost:8080/",
          "height": 51
        }
      },
      "source": [
        "print(\"Validation loss:\", val_loss)\n",
        "print(\"Validation accuracy:\", val_acc)"
      ],
      "execution_count": 17,
      "outputs": [
        {
          "output_type": "stream",
          "text": [
            "Validation loss: 0.11046145856380463\n",
            "Validation accuracy: 0.9580000042915344\n"
          ],
          "name": "stdout"
        }
      ]
    },
    {
      "cell_type": "markdown",
      "metadata": {
        "id": "7Ww756WToby8",
        "colab_type": "text"
      },
      "source": [
        "## Save the model"
      ]
    },
    {
      "cell_type": "code",
      "metadata": {
        "id": "0lTUpUdwobKW",
        "colab_type": "code",
        "colab": {}
      },
      "source": [
        "model_fname = 'cats_and_dogs_small_4.h5' \n",
        "model.save(model_fname)"
      ],
      "execution_count": 0,
      "outputs": []
    },
    {
      "cell_type": "code",
      "metadata": {
        "id": "YhEoI8ZTok-X",
        "colab_type": "code",
        "colab": {}
      },
      "source": [
        "from google.colab import files\n",
        "\n",
        "with open(model_fname, 'r') as f:\n",
        "  files.download(model_fname)"
      ],
      "execution_count": 0,
      "outputs": []
    },
    {
      "cell_type": "code",
      "metadata": {
        "id": "VNEL4CCcS0Oj",
        "colab_type": "code",
        "colab": {}
      },
      "source": [
        ""
      ],
      "execution_count": 0,
      "outputs": []
    }
  ]
}
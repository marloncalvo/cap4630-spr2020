{
  "nbformat": 4,
  "nbformat_minor": 0,
  "metadata": {
    "colab": {
      "name": "Problem3_OriginalClassifier",
      "provenance": [],
      "include_colab_link": true
    },
    "kernelspec": {
      "name": "python3",
      "display_name": "Python 3"
    },
    "accelerator": "GPU"
  },
  "cells": [
    {
      "cell_type": "markdown",
      "metadata": {
        "id": "view-in-github",
        "colab_type": "text"
      },
      "source": [
        "<a href=\"https://colab.research.google.com/github/marloncalvo/cap4630-spr2020/blob/master/Problem3_OriginalClassifier.ipynb\" target=\"_parent\"><img src=\"https://colab.research.google.com/assets/colab-badge.svg\" alt=\"Open In Colab\"/></a>"
      ]
    },
    {
      "cell_type": "markdown",
      "metadata": {
        "id": "KSrgMJ5vKFzQ",
        "colab_type": "text"
      },
      "source": [
        "# Fine-tuning VGG16 "
      ]
    },
    {
      "cell_type": "markdown",
      "metadata": {
        "id": "TIW7bZaAK-Hf",
        "colab_type": "text"
      },
      "source": [
        "This is based on section 5.3 *Using a pretrained convnet* of the book *Deep learning with Python* by Francois Chollet. I have made several changes to the code. I use the data that is already provided by Google. I don't download the data from Kaggle as in the deep learning book."
      ]
    },
    {
      "cell_type": "markdown",
      "metadata": {
        "id": "nsBq__dVo2pj",
        "colab_type": "text"
      },
      "source": [
        "## Feature extraction"
      ]
    },
    {
      "cell_type": "markdown",
      "metadata": {
        "id": "0g6ETAM9o54M",
        "colab_type": "text"
      },
      "source": [
        "Feature extraction consists of using the representations learned by a previous network to extract interesting features from new samples. These features are then run through a new classifier, which is trained from scratch.\n",
        "\n",
        "We will use here the convolutional base of the VGG16 model to extract the features. We will feed these features to a densely connected classifier with dropout. We will fine-tune some layers."
      ]
    },
    {
      "cell_type": "markdown",
      "metadata": {
        "id": "BqIG8QHMLNOn",
        "colab_type": "text"
      },
      "source": [
        "## Download the data"
      ]
    },
    {
      "cell_type": "markdown",
      "metadata": {
        "id": "t3I1jd7cKV6_",
        "colab_type": "text"
      },
      "source": [
        "Download the example data, a zip. of 2,000 JPG pictures of cats and dogs and extract it locally in ```/tmp```.\n",
        "\n"
      ]
    },
    {
      "cell_type": "code",
      "metadata": {
        "id": "JWjprHEXJ5Qi",
        "colab_type": "code",
        "outputId": "0a808e25-db4e-4b7d-a241-71aa4477d28b",
        "colab": {
          "base_uri": "https://localhost:8080/",
          "height": 204
        }
      },
      "source": [
        "!wget --no-check-certificate \\\n",
        "    https://storage.googleapis.com/mledu-datasets/cats_and_dogs_filtered.zip \\\n",
        "    -O /tmp/cats_and_dogs_filtered.zip"
      ],
      "execution_count": 1,
      "outputs": [
        {
          "output_type": "stream",
          "text": [
            "--2020-04-22 00:57:31--  https://storage.googleapis.com/mledu-datasets/cats_and_dogs_filtered.zip\n",
            "Resolving storage.googleapis.com (storage.googleapis.com)... 172.217.194.128, 2404:6800:4003:c04::80\n",
            "Connecting to storage.googleapis.com (storage.googleapis.com)|172.217.194.128|:443... connected.\n",
            "HTTP request sent, awaiting response... 200 OK\n",
            "Length: 68606236 (65M) [application/zip]\n",
            "Saving to: ‘/tmp/cats_and_dogs_filtered.zip’\n",
            "\n",
            "/tmp/cats_and_dogs_ 100%[===================>]  65.43M  62.9MB/s    in 1.0s    \n",
            "\n",
            "2020-04-22 00:57:33 (62.9 MB/s) - ‘/tmp/cats_and_dogs_filtered.zip’ saved [68606236/68606236]\n",
            "\n"
          ],
          "name": "stdout"
        }
      ]
    },
    {
      "cell_type": "code",
      "metadata": {
        "id": "WvoHtdA-K6Rw",
        "colab_type": "code",
        "colab": {}
      },
      "source": [
        "import os\n",
        "import zipfile\n",
        "\n",
        "local_zip = '/tmp/cats_and_dogs_filtered.zip'\n",
        "zip_ref = zipfile.ZipFile(local_zip, 'r')\n",
        "zip_ref.extractall('/tmp')\n",
        "zip_ref.close()"
      ],
      "execution_count": 0,
      "outputs": []
    },
    {
      "cell_type": "markdown",
      "metadata": {
        "id": "shZiOBnJMyy_",
        "colab_type": "text"
      },
      "source": [
        "Note that the data provided by Google does not have a test set."
      ]
    },
    {
      "cell_type": "code",
      "metadata": {
        "id": "dL8ikM89LlsH",
        "colab_type": "code",
        "colab": {}
      },
      "source": [
        "base_dir = '/tmp/cats_and_dogs_filtered'\n",
        "train_dir = os.path.join(base_dir, 'train')\n",
        "validation_dir = os.path.join(base_dir, 'validation')\n",
        "\n",
        "# Directory with our training cat pictures\n",
        "train_cats_dir = os.path.join(train_dir, 'cats')\n",
        "\n",
        "# Directory with our training dog pictures\n",
        "train_dogs_dir = os.path.join(train_dir, 'dogs')\n",
        "\n",
        "# Directory with our validation cat pictures\n",
        "validation_cats_dir = os.path.join(validation_dir, 'cats')\n",
        "\n",
        "# Directory with our validation dog pictures\n",
        "validation_dogs_dir = os.path.join(validation_dir, 'dogs')"
      ],
      "execution_count": 0,
      "outputs": []
    },
    {
      "cell_type": "markdown",
      "metadata": {
        "id": "inyP8bcdXnn-",
        "colab_type": "text"
      },
      "source": [
        "## Build network with VGG16 convolution base and custom densely connected layers"
      ]
    },
    {
      "cell_type": "markdown",
      "metadata": {
        "id": "kQ48W5T9rHWu",
        "colab_type": "text"
      },
      "source": [
        "### Load the convolutional base"
      ]
    },
    {
      "cell_type": "code",
      "metadata": {
        "id": "Y0FgtANCXm_H",
        "colab_type": "code",
        "outputId": "00154287-c561-469e-c6c8-74295c6a5571",
        "colab": {
          "base_uri": "https://localhost:8080/",
          "height": 122
        }
      },
      "source": [
        "from keras.applications.mobilenet_v2 import MobileNetV2\n",
        "\n",
        "conv_base = MobileNetV2(\n",
        "    weights='imagenet', \n",
        "    include_top=False, \n",
        "    input_shape=(150, 150, 3))"
      ],
      "execution_count": 4,
      "outputs": [
        {
          "output_type": "stream",
          "text": [
            "Using TensorFlow backend.\n",
            "/usr/local/lib/python3.6/dist-packages/keras_applications/mobilenet_v2.py:294: UserWarning: `input_shape` is undefined or non-square, or `rows` is not in [96, 128, 160, 192, 224]. Weights for input shape (224, 224) will be loaded as the default.\n",
            "  warnings.warn('`input_shape` is undefined or non-square, '\n"
          ],
          "name": "stderr"
        },
        {
          "output_type": "stream",
          "text": [
            "Downloading data from https://github.com/JonathanCMitchell/mobilenet_v2_keras/releases/download/v1.1/mobilenet_v2_weights_tf_dim_ordering_tf_kernels_1.0_224_no_top.h5\n",
            "9412608/9406464 [==============================] - 2s 0us/step\n"
          ],
          "name": "stdout"
        }
      ]
    },
    {
      "cell_type": "markdown",
      "metadata": {
        "id": "D6OBHOO9q1ou",
        "colab_type": "text"
      },
      "source": [
        "### Freeze the convolutional base"
      ]
    },
    {
      "cell_type": "code",
      "metadata": {
        "id": "UleRo4Dpq6Ld",
        "colab_type": "code",
        "colab": {}
      },
      "source": [
        "conv_base.trainable = False"
      ],
      "execution_count": 0,
      "outputs": []
    },
    {
      "cell_type": "markdown",
      "metadata": {
        "id": "Qfx6PqhPrb7Q",
        "colab_type": "text"
      },
      "source": [
        "### Concatenate the convolutional base and densely connected layers"
      ]
    },
    {
      "cell_type": "code",
      "metadata": {
        "id": "qUpmocDAO3xm",
        "colab_type": "code",
        "colab": {}
      },
      "source": [
        "from keras import layers\n",
        "from keras import models\n",
        "from keras import optimizers\n",
        "\n",
        "model = models.Sequential()\n",
        "model.add(conv_base)\n",
        "model.add(layers.Flatten())\n",
        "model.add(layers.Dense(256, activation='relu'))\n",
        "#model.add(layers.Dropout(0.1))\n",
        "model.add(layers.Dense(1, activation='sigmoid'))"
      ],
      "execution_count": 0,
      "outputs": []
    },
    {
      "cell_type": "code",
      "metadata": {
        "id": "Fh6gZSeAjF7c",
        "colab_type": "code",
        "outputId": "756afe96-b4e2-40d7-c330-254073a4f8d2",
        "colab": {
          "base_uri": "https://localhost:8080/",
          "height": 289
        }
      },
      "source": [
        "model.summary()"
      ],
      "execution_count": 7,
      "outputs": [
        {
          "output_type": "stream",
          "text": [
            "Model: \"sequential_1\"\n",
            "_________________________________________________________________\n",
            "Layer (type)                 Output Shape              Param #   \n",
            "=================================================================\n",
            "mobilenetv2_1.00_224 (Model) (None, 5, 5, 1280)        2257984   \n",
            "_________________________________________________________________\n",
            "flatten_1 (Flatten)          (None, 32000)             0         \n",
            "_________________________________________________________________\n",
            "dense_1 (Dense)              (None, 256)               8192256   \n",
            "_________________________________________________________________\n",
            "dense_2 (Dense)              (None, 1)                 257       \n",
            "=================================================================\n",
            "Total params: 10,450,497\n",
            "Trainable params: 8,192,513\n",
            "Non-trainable params: 2,257,984\n",
            "_________________________________________________________________\n"
          ],
          "name": "stdout"
        }
      ]
    },
    {
      "cell_type": "markdown",
      "metadata": {
        "id": "eZjBiddhi5Qj",
        "colab_type": "text"
      },
      "source": [
        "## Train the model end to end with frozen convolutional base"
      ]
    },
    {
      "cell_type": "code",
      "metadata": {
        "id": "tfAQlC2Oi41L",
        "colab_type": "code",
        "outputId": "eb94d1e9-4ca6-49c8-ef67-81dfee934a23",
        "colab": {
          "base_uri": "https://localhost:8080/",
          "height": 1000
        }
      },
      "source": [
        "from keras.preprocessing.image import ImageDataGenerator\n",
        "from keras import optimizers\n",
        "\n",
        "# data augmentation\n",
        "\n",
        "train_datagen = ImageDataGenerator(\n",
        "    rescale=1./255, \n",
        "    rotation_range=40,\n",
        "    width_shift_range=0.2,\n",
        "    height_shift_range=0.2,\n",
        "    shear_range=0.2,\n",
        "    zoom_range=0.2,\n",
        "    horizontal_flip=True,\n",
        "    fill_mode='nearest'\n",
        ")\n",
        "\n",
        "train_generator = train_datagen.flow_from_directory(\n",
        "    train_dir,\n",
        "    target_size=(150, 150),\n",
        "    batch_size=20,\n",
        "    class_mode='binary')\n",
        "\n",
        "validation_datagen = ImageDataGenerator(rescale=1./255)\n",
        "\n",
        "validation_generator = validation_datagen.flow_from_directory(\n",
        "    validation_dir,\n",
        "    target_size=(150, 150),\n",
        "    batch_size=20,\n",
        "    class_mode='binary')\n",
        "\n",
        "# compile model\n",
        "\n",
        "model.compile(\n",
        "    loss='binary_crossentropy', \n",
        "    optimizer=optimizers.RMSprop(lr=2e-5), \n",
        "    metrics=['acc'])\n",
        "\n",
        "# train\n",
        "\n",
        "history = model.fit_generator(\n",
        "    train_generator,\n",
        "    steps_per_epoch=100,\n",
        "    epochs=30,\n",
        "    validation_data=validation_generator,\n",
        "    validation_steps=50\n",
        ")"
      ],
      "execution_count": 8,
      "outputs": [
        {
          "output_type": "stream",
          "text": [
            "Found 2000 images belonging to 2 classes.\n",
            "Found 1000 images belonging to 2 classes.\n",
            "Epoch 1/30\n",
            "100/100 [==============================] - 28s 277ms/step - loss: 0.4622 - acc: 0.7800 - val_loss: 0.1264 - val_acc: 0.8840\n",
            "Epoch 2/30\n",
            "100/100 [==============================] - 18s 183ms/step - loss: 0.3087 - acc: 0.8660 - val_loss: 0.3210 - val_acc: 0.9390\n",
            "Epoch 3/30\n",
            "100/100 [==============================] - 18s 184ms/step - loss: 0.2976 - acc: 0.8755 - val_loss: 0.6006 - val_acc: 0.9020\n",
            "Epoch 4/30\n",
            "100/100 [==============================] - 18s 183ms/step - loss: 0.2884 - acc: 0.8850 - val_loss: 0.4881 - val_acc: 0.9190\n",
            "Epoch 5/30\n",
            "100/100 [==============================] - 18s 183ms/step - loss: 0.2713 - acc: 0.8810 - val_loss: 0.3007 - val_acc: 0.8750\n",
            "Epoch 6/30\n",
            "100/100 [==============================] - 18s 184ms/step - loss: 0.2835 - acc: 0.8840 - val_loss: 0.0020 - val_acc: 0.9410\n",
            "Epoch 7/30\n",
            "100/100 [==============================] - 18s 183ms/step - loss: 0.2454 - acc: 0.8955 - val_loss: 0.5593 - val_acc: 0.9250\n",
            "Epoch 8/30\n",
            "100/100 [==============================] - 18s 183ms/step - loss: 0.2488 - acc: 0.9080 - val_loss: 0.0182 - val_acc: 0.9370\n",
            "Epoch 9/30\n",
            "100/100 [==============================] - 19s 186ms/step - loss: 0.2338 - acc: 0.9035 - val_loss: 0.0061 - val_acc: 0.8960\n",
            "Epoch 10/30\n",
            "100/100 [==============================] - 18s 184ms/step - loss: 0.2367 - acc: 0.9010 - val_loss: 0.5737 - val_acc: 0.8760\n",
            "Epoch 11/30\n",
            "100/100 [==============================] - 18s 184ms/step - loss: 0.2146 - acc: 0.9130 - val_loss: 0.8480 - val_acc: 0.8910\n",
            "Epoch 12/30\n",
            "100/100 [==============================] - 18s 185ms/step - loss: 0.2238 - acc: 0.9060 - val_loss: 0.0126 - val_acc: 0.9070\n",
            "Epoch 13/30\n",
            "100/100 [==============================] - 18s 181ms/step - loss: 0.2168 - acc: 0.9150 - val_loss: 0.4037 - val_acc: 0.9270\n",
            "Epoch 14/30\n",
            "100/100 [==============================] - 18s 181ms/step - loss: 0.2026 - acc: 0.9170 - val_loss: 0.0448 - val_acc: 0.9440\n",
            "Epoch 15/30\n",
            "100/100 [==============================] - 18s 183ms/step - loss: 0.2081 - acc: 0.9160 - val_loss: 0.0505 - val_acc: 0.9290\n",
            "Epoch 16/30\n",
            "100/100 [==============================] - 18s 180ms/step - loss: 0.2105 - acc: 0.9155 - val_loss: 0.3153 - val_acc: 0.9320\n",
            "Epoch 17/30\n",
            "100/100 [==============================] - 18s 182ms/step - loss: 0.1959 - acc: 0.9170 - val_loss: 1.0586 - val_acc: 0.9190\n",
            "Epoch 18/30\n",
            "100/100 [==============================] - 18s 180ms/step - loss: 0.1865 - acc: 0.9190 - val_loss: 0.2140 - val_acc: 0.9340\n",
            "Epoch 19/30\n",
            "100/100 [==============================] - 18s 181ms/step - loss: 0.2053 - acc: 0.9205 - val_loss: 0.0089 - val_acc: 0.9200\n",
            "Epoch 20/30\n",
            "100/100 [==============================] - 18s 183ms/step - loss: 0.1849 - acc: 0.9255 - val_loss: 0.6391 - val_acc: 0.9170\n",
            "Epoch 21/30\n",
            "100/100 [==============================] - 18s 180ms/step - loss: 0.2125 - acc: 0.9115 - val_loss: 0.1845 - val_acc: 0.9330\n",
            "Epoch 22/30\n",
            "100/100 [==============================] - 18s 179ms/step - loss: 0.2034 - acc: 0.9190 - val_loss: 0.4702 - val_acc: 0.8930\n",
            "Epoch 23/30\n",
            "100/100 [==============================] - 18s 182ms/step - loss: 0.1979 - acc: 0.9150 - val_loss: 0.5264 - val_acc: 0.9250\n",
            "Epoch 24/30\n",
            "100/100 [==============================] - 18s 178ms/step - loss: 0.1707 - acc: 0.9290 - val_loss: 0.4602 - val_acc: 0.9180\n",
            "Epoch 25/30\n",
            "100/100 [==============================] - 17s 175ms/step - loss: 0.1807 - acc: 0.9265 - val_loss: 0.8910 - val_acc: 0.8970\n",
            "Epoch 26/30\n",
            "100/100 [==============================] - 18s 177ms/step - loss: 0.1746 - acc: 0.9315 - val_loss: 2.3540 - val_acc: 0.8800\n",
            "Epoch 27/30\n",
            "100/100 [==============================] - 17s 175ms/step - loss: 0.1662 - acc: 0.9330 - val_loss: 0.5926 - val_acc: 0.9280\n",
            "Epoch 28/30\n",
            "100/100 [==============================] - 18s 176ms/step - loss: 0.1815 - acc: 0.9325 - val_loss: 0.5120 - val_acc: 0.9110\n",
            "Epoch 29/30\n",
            "100/100 [==============================] - 18s 178ms/step - loss: 0.1813 - acc: 0.9265 - val_loss: 0.0030 - val_acc: 0.9220\n",
            "Epoch 30/30\n",
            "100/100 [==============================] - 18s 176ms/step - loss: 0.1651 - acc: 0.9340 - val_loss: 0.4719 - val_acc: 0.9070\n"
          ],
          "name": "stdout"
        }
      ]
    },
    {
      "cell_type": "markdown",
      "metadata": {
        "id": "xqRc_vHKc92U",
        "colab_type": "text"
      },
      "source": [
        "## Display curves of loss and accuracy during training"
      ]
    },
    {
      "cell_type": "code",
      "metadata": {
        "id": "ybWwdzz9bwuQ",
        "colab_type": "code",
        "outputId": "a0b4947a-48a8-4e86-c2de-66aa0fbdcac1",
        "colab": {
          "base_uri": "https://localhost:8080/",
          "height": 545
        }
      },
      "source": [
        "%matplotlib inline\n",
        "\n",
        "import matplotlib.pyplot as plt\n",
        "\n",
        "acc = history.history['acc']\n",
        "val_acc = history.history['val_acc']\n",
        "\n",
        "loss = history.history['loss']\n",
        "val_loss = history.history['val_loss']\n",
        "\n",
        "epochs = range(1, len(acc) + 1)\n",
        "\n",
        "# training and validation accuracy\n",
        "\n",
        "plt.plot(epochs, acc, 'bo', label='training acc')\n",
        "plt.plot(epochs, val_acc, 'b', label='validation acc')\n",
        "plt.title('training and validation accuracy')\n",
        "plt.legend()\n",
        "\n",
        "plt.figure()\n",
        "\n",
        "# training and validation loss\n",
        "\n",
        "plt.plot(epochs, loss, 'bo', label='training loss')\n",
        "plt.plot(epochs, val_loss, 'b', label='validation loss')\n",
        "plt.title('training and validation loss')\n",
        "plt.legend()\n",
        "\n",
        "plt.show()"
      ],
      "execution_count": 9,
      "outputs": [
        {
          "output_type": "display_data",
          "data": {
            "image/png": "[encoded data removed]",
            "text/plain": [
              "<Figure size 432x288 with 1 Axes>"
            ]
          },
          "metadata": {
            "tags": [],
            "needs_background": "light"
          }
        },
        {
          "output_type": "display_data",
          "data": {
            "image/png": "[encoded data removed]",
            "text/plain": [
              "<Figure size 432x288 with 1 Axes>"
            ]
          },
          "metadata": {
            "tags": [],
            "needs_background": "light"
          }
        }
      ]
    },
    {
      "cell_type": "markdown",
      "metadata": {
        "id": "lOWsxpey8lN0",
        "colab_type": "text"
      },
      "source": [
        "## Fine-tuning"
      ]
    },
    {
      "cell_type": "code",
      "metadata": {
        "id": "PwkVMx8N8qMw",
        "colab_type": "code",
        "colab": {}
      },
      "source": [
        "conv_base.trainable = True\n",
        "\n",
        "set_trainable = False\n",
        "for layer in conv_base.layers:\n",
        "  if '_expand' in layer.name or '_project' in layer.name:\n",
        "    set_trainable = True\n",
        "  if set_trainable:\n",
        "    layer.trainable = True\n",
        "  else:\n",
        "    layer.trainable = False"
      ],
      "execution_count": 0,
      "outputs": []
    },
    {
      "cell_type": "code",
      "metadata": {
        "id": "DyN-J7rs9cvo",
        "colab_type": "code",
        "outputId": "79ce0ee5-fc2f-48c3-9828-39ce1332dd1c",
        "colab": {
          "base_uri": "https://localhost:8080/",
          "height": 1000
        }
      },
      "source": [
        "# compile model\n",
        "\n",
        "model.compile(\n",
        "    loss='binary_crossentropy',\n",
        "    #\n",
        "    # choose a smaller learning rate\n",
        "    #\n",
        "    optimizer=optimizers.RMSprop(lr=1e-5), \n",
        "    metrics=['acc'])\n",
        "\n",
        "# train\n",
        "\n",
        "history = model.fit_generator(\n",
        "    train_generator,\n",
        "    steps_per_epoch=100,\n",
        "    epochs=100,\n",
        "    validation_data=validation_generator,\n",
        "    validation_steps=50)"
      ],
      "execution_count": 13,
      "outputs": [
        {
          "output_type": "stream",
          "text": [
            "Epoch 1/100\n",
            "100/100 [==============================] - 35s 350ms/step - loss: 0.1868 - acc: 0.9315 - val_loss: 0.1341 - val_acc: 0.9400\n",
            "Epoch 2/100\n",
            "100/100 [==============================] - 24s 241ms/step - loss: 0.1679 - acc: 0.9405 - val_loss: 0.2368 - val_acc: 0.9190\n",
            "Epoch 3/100\n",
            "100/100 [==============================] - 24s 243ms/step - loss: 0.1387 - acc: 0.9455 - val_loss: 0.0487 - val_acc: 0.9380\n",
            "Epoch 4/100\n",
            "100/100 [==============================] - 24s 239ms/step - loss: 0.1384 - acc: 0.9485 - val_loss: 0.1176 - val_acc: 0.9500\n",
            "Epoch 5/100\n",
            "100/100 [==============================] - 24s 238ms/step - loss: 0.1526 - acc: 0.9360 - val_loss: 0.0061 - val_acc: 0.9540\n",
            "Epoch 6/100\n",
            "100/100 [==============================] - 24s 241ms/step - loss: 0.1577 - acc: 0.9410 - val_loss: 0.0010 - val_acc: 0.9580\n",
            "Epoch 7/100\n",
            "100/100 [==============================] - 24s 236ms/step - loss: 0.1308 - acc: 0.9470 - val_loss: 0.0246 - val_acc: 0.9630\n",
            "Epoch 8/100\n",
            "100/100 [==============================] - 24s 237ms/step - loss: 0.1300 - acc: 0.9490 - val_loss: 0.0138 - val_acc: 0.9600\n",
            "Epoch 9/100\n",
            "100/100 [==============================] - 24s 237ms/step - loss: 0.1087 - acc: 0.9585 - val_loss: 0.1285 - val_acc: 0.9630\n",
            "Epoch 10/100\n",
            "100/100 [==============================] - 24s 238ms/step - loss: 0.1155 - acc: 0.9520 - val_loss: 0.0234 - val_acc: 0.9580\n",
            "Epoch 11/100\n",
            "100/100 [==============================] - 24s 236ms/step - loss: 0.1268 - acc: 0.9550 - val_loss: 0.0184 - val_acc: 0.9640\n",
            "Epoch 12/100\n",
            "100/100 [==============================] - 24s 236ms/step - loss: 0.1109 - acc: 0.9595 - val_loss: 0.0025 - val_acc: 0.9600\n",
            "Epoch 13/100\n",
            "100/100 [==============================] - 24s 237ms/step - loss: 0.1149 - acc: 0.9510 - val_loss: 0.0015 - val_acc: 0.9580\n",
            "Epoch 14/100\n",
            "100/100 [==============================] - 24s 236ms/step - loss: 0.1298 - acc: 0.9510 - val_loss: 0.7501 - val_acc: 0.9570\n",
            "Epoch 15/100\n",
            "100/100 [==============================] - 24s 235ms/step - loss: 0.0929 - acc: 0.9640 - val_loss: 0.1647 - val_acc: 0.9490\n",
            "Epoch 16/100\n",
            "100/100 [==============================] - 24s 238ms/step - loss: 0.0953 - acc: 0.9640 - val_loss: 0.0765 - val_acc: 0.9600\n",
            "Epoch 17/100\n",
            "100/100 [==============================] - 24s 237ms/step - loss: 0.0881 - acc: 0.9670 - val_loss: 0.0416 - val_acc: 0.9570\n",
            "Epoch 18/100\n",
            "100/100 [==============================] - 24s 235ms/step - loss: 0.0978 - acc: 0.9645 - val_loss: 0.0929 - val_acc: 0.9560\n",
            "Epoch 19/100\n",
            "100/100 [==============================] - 24s 236ms/step - loss: 0.0856 - acc: 0.9625 - val_loss: 0.0080 - val_acc: 0.9560\n",
            "Epoch 20/100\n",
            "100/100 [==============================] - 24s 236ms/step - loss: 0.0993 - acc: 0.9575 - val_loss: 0.0015 - val_acc: 0.9580\n",
            "Epoch 21/100\n",
            "100/100 [==============================] - 24s 236ms/step - loss: 0.0906 - acc: 0.9660 - val_loss: 0.1687 - val_acc: 0.9580\n",
            "Epoch 22/100\n",
            "100/100 [==============================] - 24s 236ms/step - loss: 0.0977 - acc: 0.9670 - val_loss: 0.0040 - val_acc: 0.9620\n",
            "Epoch 23/100\n",
            "100/100 [==============================] - 24s 240ms/step - loss: 0.0868 - acc: 0.9665 - val_loss: 0.0809 - val_acc: 0.9590\n",
            "Epoch 24/100\n",
            "100/100 [==============================] - 24s 239ms/step - loss: 0.0948 - acc: 0.9685 - val_loss: 0.1771 - val_acc: 0.9470\n",
            "Epoch 25/100\n",
            "100/100 [==============================] - 24s 240ms/step - loss: 0.0901 - acc: 0.9675 - val_loss: 0.1522 - val_acc: 0.9580\n",
            "Epoch 26/100\n",
            "100/100 [==============================] - 24s 240ms/step - loss: 0.0842 - acc: 0.9705 - val_loss: 0.3192 - val_acc: 0.9620\n",
            "Epoch 27/100\n",
            "100/100 [==============================] - 24s 239ms/step - loss: 0.0766 - acc: 0.9710 - val_loss: 0.0290 - val_acc: 0.9630\n",
            "Epoch 28/100\n",
            "100/100 [==============================] - 24s 240ms/step - loss: 0.0647 - acc: 0.9775 - val_loss: 0.0142 - val_acc: 0.9630\n",
            "Epoch 29/100\n",
            "100/100 [==============================] - 24s 239ms/step - loss: 0.0618 - acc: 0.9735 - val_loss: 0.3670 - val_acc: 0.9510\n",
            "Epoch 30/100\n",
            "100/100 [==============================] - 24s 240ms/step - loss: 0.0783 - acc: 0.9715 - val_loss: 0.2529 - val_acc: 0.9610\n",
            "Epoch 31/100\n",
            "100/100 [==============================] - 24s 238ms/step - loss: 0.0843 - acc: 0.9730 - val_loss: 1.7671e-04 - val_acc: 0.9620\n",
            "Epoch 32/100\n",
            "100/100 [==============================] - 24s 237ms/step - loss: 0.0843 - acc: 0.9710 - val_loss: 0.1222 - val_acc: 0.9620\n",
            "Epoch 33/100\n",
            "100/100 [==============================] - 24s 236ms/step - loss: 0.0763 - acc: 0.9695 - val_loss: 0.0967 - val_acc: 0.9550\n",
            "Epoch 34/100\n",
            "100/100 [==============================] - 24s 238ms/step - loss: 0.0572 - acc: 0.9805 - val_loss: 0.0689 - val_acc: 0.9580\n",
            "Epoch 35/100\n",
            "100/100 [==============================] - 24s 236ms/step - loss: 0.0594 - acc: 0.9750 - val_loss: 0.0617 - val_acc: 0.9610\n",
            "Epoch 36/100\n",
            "100/100 [==============================] - 24s 236ms/step - loss: 0.0597 - acc: 0.9830 - val_loss: 0.0566 - val_acc: 0.9600\n",
            "Epoch 37/100\n",
            "100/100 [==============================] - 24s 236ms/step - loss: 0.0766 - acc: 0.9770 - val_loss: 0.0742 - val_acc: 0.9630\n",
            "Epoch 38/100\n",
            "100/100 [==============================] - 23s 235ms/step - loss: 0.0811 - acc: 0.9730 - val_loss: 0.2752 - val_acc: 0.9640\n",
            "Epoch 39/100\n",
            "100/100 [==============================] - 24s 235ms/step - loss: 0.0735 - acc: 0.9790 - val_loss: 0.3468 - val_acc: 0.9640\n",
            "Epoch 40/100\n",
            "100/100 [==============================] - 24s 235ms/step - loss: 0.0616 - acc: 0.9785 - val_loss: 0.1115 - val_acc: 0.9670\n",
            "Epoch 41/100\n",
            "100/100 [==============================] - 23s 233ms/step - loss: 0.0624 - acc: 0.9765 - val_loss: 0.1955 - val_acc: 0.9560\n",
            "Epoch 42/100\n",
            "100/100 [==============================] - 24s 237ms/step - loss: 0.0546 - acc: 0.9790 - val_loss: 0.0426 - val_acc: 0.9560\n",
            "Epoch 43/100\n",
            "100/100 [==============================] - 24s 236ms/step - loss: 0.0683 - acc: 0.9750 - val_loss: 0.5992 - val_acc: 0.9530\n",
            "Epoch 44/100\n",
            "100/100 [==============================] - 24s 236ms/step - loss: 0.0519 - acc: 0.9745 - val_loss: 0.0019 - val_acc: 0.9560\n",
            "Epoch 45/100\n",
            "100/100 [==============================] - 24s 235ms/step - loss: 0.0543 - acc: 0.9810 - val_loss: 0.1214 - val_acc: 0.9640\n",
            "Epoch 46/100\n",
            "100/100 [==============================] - 23s 234ms/step - loss: 0.0494 - acc: 0.9810 - val_loss: 0.0328 - val_acc: 0.9660\n",
            "Epoch 47/100\n",
            "100/100 [==============================] - 23s 234ms/step - loss: 0.0501 - acc: 0.9820 - val_loss: 0.4520 - val_acc: 0.9600\n",
            "Epoch 48/100\n",
            "100/100 [==============================] - 23s 231ms/step - loss: 0.0582 - acc: 0.9755 - val_loss: 0.0536 - val_acc: 0.9640\n",
            "Epoch 49/100\n",
            "100/100 [==============================] - 23s 234ms/step - loss: 0.0595 - acc: 0.9775 - val_loss: 0.2576 - val_acc: 0.9610\n",
            "Epoch 50/100\n",
            "100/100 [==============================] - 24s 236ms/step - loss: 0.0489 - acc: 0.9815 - val_loss: 0.3081 - val_acc: 0.9610\n",
            "Epoch 51/100\n",
            "100/100 [==============================] - 24s 236ms/step - loss: 0.0584 - acc: 0.9795 - val_loss: 0.0438 - val_acc: 0.9530\n",
            "Epoch 52/100\n",
            "100/100 [==============================] - 24s 239ms/step - loss: 0.0457 - acc: 0.9850 - val_loss: 0.0894 - val_acc: 0.9630\n",
            "Epoch 53/100\n",
            "100/100 [==============================] - 24s 237ms/step - loss: 0.0515 - acc: 0.9825 - val_loss: 0.0522 - val_acc: 0.9610\n",
            "Epoch 54/100\n",
            "100/100 [==============================] - 24s 236ms/step - loss: 0.0387 - acc: 0.9875 - val_loss: 0.2684 - val_acc: 0.9580\n",
            "Epoch 55/100\n",
            "100/100 [==============================] - 24s 237ms/step - loss: 0.0603 - acc: 0.9790 - val_loss: 0.0065 - val_acc: 0.9650\n",
            "Epoch 56/100\n",
            "100/100 [==============================] - 24s 238ms/step - loss: 0.0450 - acc: 0.9860 - val_loss: 0.1560 - val_acc: 0.9640\n",
            "Epoch 57/100\n",
            "100/100 [==============================] - 24s 241ms/step - loss: 0.0371 - acc: 0.9845 - val_loss: 0.0017 - val_acc: 0.9630\n",
            "Epoch 58/100\n",
            "100/100 [==============================] - 25s 246ms/step - loss: 0.0375 - acc: 0.9850 - val_loss: 0.0039 - val_acc: 0.9510\n",
            "Epoch 59/100\n",
            "100/100 [==============================] - 25s 252ms/step - loss: 0.0696 - acc: 0.9795 - val_loss: 0.2276 - val_acc: 0.9550\n",
            "Epoch 60/100\n",
            "100/100 [==============================] - 25s 248ms/step - loss: 0.0470 - acc: 0.9800 - val_loss: 0.0249 - val_acc: 0.9580\n",
            "Epoch 61/100\n",
            "100/100 [==============================] - 24s 244ms/step - loss: 0.0367 - acc: 0.9855 - val_loss: 0.0939 - val_acc: 0.9570\n",
            "Epoch 62/100\n",
            "100/100 [==============================] - 24s 244ms/step - loss: 0.0403 - acc: 0.9825 - val_loss: 0.0317 - val_acc: 0.9560\n",
            "Epoch 63/100\n",
            "100/100 [==============================] - 24s 245ms/step - loss: 0.0416 - acc: 0.9850 - val_loss: 0.1255 - val_acc: 0.9590\n",
            "Epoch 64/100\n",
            "100/100 [==============================] - 25s 246ms/step - loss: 0.0456 - acc: 0.9855 - val_loss: 5.3848e-05 - val_acc: 0.9590\n",
            "Epoch 65/100\n",
            "100/100 [==============================] - 24s 243ms/step - loss: 0.0347 - acc: 0.9875 - val_loss: 0.2173 - val_acc: 0.9590\n",
            "Epoch 66/100\n",
            "100/100 [==============================] - 24s 240ms/step - loss: 0.0597 - acc: 0.9820 - val_loss: 0.1109 - val_acc: 0.9590\n",
            "Epoch 67/100\n",
            "100/100 [==============================] - 24s 245ms/step - loss: 0.0358 - acc: 0.9870 - val_loss: 0.0648 - val_acc: 0.9590\n",
            "Epoch 68/100\n",
            "100/100 [==============================] - 24s 244ms/step - loss: 0.0372 - acc: 0.9875 - val_loss: 0.1750 - val_acc: 0.9630\n",
            "Epoch 69/100\n",
            "100/100 [==============================] - 24s 243ms/step - loss: 0.0415 - acc: 0.9870 - val_loss: 0.0324 - val_acc: 0.9600\n",
            "Epoch 70/100\n",
            "100/100 [==============================] - 25s 245ms/step - loss: 0.0446 - acc: 0.9855 - val_loss: 0.0165 - val_acc: 0.9610\n",
            "Epoch 71/100\n",
            "100/100 [==============================] - 25s 248ms/step - loss: 0.0322 - acc: 0.9885 - val_loss: 0.0482 - val_acc: 0.9650\n",
            "Epoch 72/100\n",
            "100/100 [==============================] - 25s 247ms/step - loss: 0.0248 - acc: 0.9890 - val_loss: 0.0982 - val_acc: 0.9620\n",
            "Epoch 73/100\n",
            "100/100 [==============================] - 25s 248ms/step - loss: 0.0366 - acc: 0.9870 - val_loss: 0.8509 - val_acc: 0.9640\n",
            "Epoch 74/100\n",
            "100/100 [==============================] - 25s 246ms/step - loss: 0.0482 - acc: 0.9815 - val_loss: 0.0710 - val_acc: 0.9590\n",
            "Epoch 75/100\n",
            "100/100 [==============================] - 26s 256ms/step - loss: 0.0352 - acc: 0.9890 - val_loss: 0.0197 - val_acc: 0.9600\n",
            "Epoch 76/100\n",
            "100/100 [==============================] - 25s 248ms/step - loss: 0.0332 - acc: 0.9895 - val_loss: 0.0393 - val_acc: 0.9640\n",
            "Epoch 77/100\n",
            "100/100 [==============================] - 25s 247ms/step - loss: 0.0368 - acc: 0.9885 - val_loss: 0.0946 - val_acc: 0.9610\n",
            "Epoch 78/100\n",
            "100/100 [==============================] - 25s 246ms/step - loss: 0.0373 - acc: 0.9910 - val_loss: 0.7838 - val_acc: 0.9570\n",
            "Epoch 79/100\n",
            "100/100 [==============================] - 25s 245ms/step - loss: 0.0391 - acc: 0.9850 - val_loss: 0.3043 - val_acc: 0.9590\n",
            "Epoch 80/100\n",
            "100/100 [==============================] - 25s 249ms/step - loss: 0.0391 - acc: 0.9865 - val_loss: 0.0254 - val_acc: 0.9620\n",
            "Epoch 81/100\n",
            "100/100 [==============================] - 25s 249ms/step - loss: 0.0351 - acc: 0.9890 - val_loss: 0.0222 - val_acc: 0.9590\n",
            "Epoch 82/100\n",
            "100/100 [==============================] - 25s 246ms/step - loss: 0.0311 - acc: 0.9915 - val_loss: 0.0833 - val_acc: 0.9630\n",
            "Epoch 83/100\n",
            "100/100 [==============================] - 25s 245ms/step - loss: 0.0398 - acc: 0.9815 - val_loss: 0.1378 - val_acc: 0.9640\n",
            "Epoch 84/100\n",
            "100/100 [==============================] - 25s 246ms/step - loss: 0.0329 - acc: 0.9880 - val_loss: 0.1335 - val_acc: 0.9600\n",
            "Epoch 85/100\n",
            "100/100 [==============================] - 25s 246ms/step - loss: 0.0299 - acc: 0.9910 - val_loss: 0.1116 - val_acc: 0.9620\n",
            "Epoch 86/100\n",
            "100/100 [==============================] - 25s 246ms/step - loss: 0.0472 - acc: 0.9895 - val_loss: 0.0543 - val_acc: 0.9510\n",
            "Epoch 87/100\n",
            "100/100 [==============================] - 25s 248ms/step - loss: 0.0305 - acc: 0.9895 - val_loss: 0.7118 - val_acc: 0.9640\n",
            "Epoch 88/100\n",
            "100/100 [==============================] - 25s 247ms/step - loss: 0.0524 - acc: 0.9830 - val_loss: 0.2058 - val_acc: 0.9600\n",
            "Epoch 89/100\n",
            "100/100 [==============================] - 25s 249ms/step - loss: 0.0271 - acc: 0.9915 - val_loss: 0.0067 - val_acc: 0.9580\n",
            "Epoch 90/100\n",
            "100/100 [==============================] - 25s 249ms/step - loss: 0.0334 - acc: 0.9875 - val_loss: 0.3356 - val_acc: 0.9620\n",
            "Epoch 91/100\n",
            "100/100 [==============================] - 25s 247ms/step - loss: 0.0630 - acc: 0.9830 - val_loss: 0.0036 - val_acc: 0.9590\n",
            "Epoch 92/100\n",
            "100/100 [==============================] - 25s 246ms/step - loss: 0.0301 - acc: 0.9910 - val_loss: 0.0400 - val_acc: 0.9590\n",
            "Epoch 93/100\n",
            "100/100 [==============================] - 25s 251ms/step - loss: 0.0210 - acc: 0.9920 - val_loss: 0.0072 - val_acc: 0.9590\n",
            "Epoch 94/100\n",
            "100/100 [==============================] - 25s 247ms/step - loss: 0.0310 - acc: 0.9885 - val_loss: 0.2994 - val_acc: 0.9600\n",
            "Epoch 95/100\n",
            "100/100 [==============================] - 25s 248ms/step - loss: 0.0140 - acc: 0.9955 - val_loss: 0.2561 - val_acc: 0.9590\n",
            "Epoch 96/100\n",
            "100/100 [==============================] - 25s 251ms/step - loss: 0.0368 - acc: 0.9865 - val_loss: 5.8086e-05 - val_acc: 0.9600\n",
            "Epoch 97/100\n",
            "100/100 [==============================] - 25s 248ms/step - loss: 0.0348 - acc: 0.9920 - val_loss: 6.2343e-04 - val_acc: 0.9580\n",
            "Epoch 98/100\n",
            "100/100 [==============================] - 25s 249ms/step - loss: 0.0281 - acc: 0.9910 - val_loss: 6.1455e-04 - val_acc: 0.9580\n",
            "Epoch 99/100\n",
            "100/100 [==============================] - 25s 249ms/step - loss: 0.0246 - acc: 0.9900 - val_loss: 0.0083 - val_acc: 0.9610\n",
            "Epoch 100/100\n",
            "100/100 [==============================] - 25s 250ms/step - loss: 0.0265 - acc: 0.9935 - val_loss: 0.0696 - val_acc: 0.9630\n"
          ],
          "name": "stdout"
        }
      ]
    },
    {
      "cell_type": "markdown",
      "metadata": {
        "id": "eVBQgh5M-Rtz",
        "colab_type": "text"
      },
      "source": [
        "## Display learning curves during fine-tuning"
      ]
    },
    {
      "cell_type": "code",
      "metadata": {
        "id": "mbkIw7Ie-NP4",
        "colab_type": "code",
        "outputId": "326028d5-1c21-4e12-c178-4c088c822c45",
        "colab": {
          "base_uri": "https://localhost:8080/",
          "height": 545
        }
      },
      "source": [
        "%matplotlib inline\n",
        "\n",
        "import matplotlib.pyplot as plt\n",
        "\n",
        "acc = history.history['acc']\n",
        "val_acc = history.history['val_acc']\n",
        "\n",
        "loss = history.history['loss']\n",
        "val_loss = history.history['val_loss']\n",
        "\n",
        "epochs = range(1, len(acc) + 1)\n",
        "\n",
        "# training and validation accuracy\n",
        "\n",
        "plt.plot(epochs, acc, 'bo', label='training acc')\n",
        "plt.plot(epochs, val_acc, 'b', label='validation acc')\n",
        "plt.title('training and validation accuracy')\n",
        "plt.legend()\n",
        "\n",
        "plt.figure()\n",
        "\n",
        "# training and validation loss\n",
        "\n",
        "plt.plot(epochs, loss, 'bo', label='training loss')\n",
        "plt.plot(epochs, val_loss, 'b', label='validation loss')\n",
        "plt.title('training and validation loss')\n",
        "plt.legend()\n",
        "\n",
        "plt.show()"
      ],
      "execution_count": 14,
      "outputs": [
        {
          "output_type": "display_data",
          "data": {
            "image/png": "[encoded data removed]",
            "text/plain": [
              "<Figure size 432x288 with 1 Axes>"
            ]
          },
          "metadata": {
            "tags": [],
            "needs_background": "light"
          }
        },
        {
          "output_type": "display_data",
          "data": {
            "image/png": "[encoded data removed]",
            "text/plain": [
              "<Figure size 432x288 with 1 Axes>"
            ]
          },
          "metadata": {
            "tags": [],
            "needs_background": "light"
          }
        }
      ]
    },
    {
      "cell_type": "markdown",
      "metadata": {
        "id": "obQi6N4ZShdi",
        "colab_type": "text"
      },
      "source": [
        "This looks like overfitting. I should try  adding dropout for the densely connected layer."
      ]
    },
    {
      "cell_type": "markdown",
      "metadata": {
        "id": "he3Nw6TOJwjx",
        "colab_type": "text"
      },
      "source": [
        "## Print out validation loss and accuracy"
      ]
    },
    {
      "cell_type": "code",
      "metadata": {
        "id": "SVQtrk7uJdhl",
        "colab_type": "code",
        "colab": {}
      },
      "source": [
        "val_loss, val_acc = model.evaluate_generator(validation_generator, steps=50)"
      ],
      "execution_count": 0,
      "outputs": []
    },
    {
      "cell_type": "code",
      "metadata": {
        "id": "HpdddLi1SUMe",
        "colab_type": "code",
        "outputId": "42b8f896-67b8-4266-ae29-861e05fa95ce",
        "colab": {
          "base_uri": "https://localhost:8080/",
          "height": 51
        }
      },
      "source": [
        "print(\"Validation loss:\", val_loss)\n",
        "print(\"Validation accuracy:\", val_acc)"
      ],
      "execution_count": 16,
      "outputs": [
        {
          "output_type": "stream",
          "text": [
            "Validation loss: 0.06958223134279251\n",
            "Validation accuracy: 0.9629999995231628\n"
          ],
          "name": "stdout"
        }
      ]
    },
    {
      "cell_type": "markdown",
      "metadata": {
        "id": "7Ww756WToby8",
        "colab_type": "text"
      },
      "source": [
        "## Save the model"
      ]
    },
    {
      "cell_type": "code",
      "metadata": {
        "id": "0lTUpUdwobKW",
        "colab_type": "code",
        "colab": {}
      },
      "source": [
        "model_fname = 'cats_and_dogs_small_4.h5' \n",
        "model.save(model_fname)"
      ],
      "execution_count": 0,
      "outputs": []
    },
    {
      "cell_type": "code",
      "metadata": {
        "id": "YhEoI8ZTok-X",
        "colab_type": "code",
        "colab": {
          "base_uri": "https://localhost:8080/",
          "height": 442
        },
        "outputId": "b759f66f-5b8d-4098-b186-fd93f7767d92"
      },
      "source": [
        "from google.colab import files\n",
        "\n",
        "with open(model_fname, 'r') as f:\n",
        "  files.download(model_fname)"
      ],
      "execution_count": 0,
      "outputs": [
        {
          "output_type": "stream",
          "text": [
            "----------------------------------------\n",
            "Exception happened during processing of request from ('::ffff:127.0.0.1', 37174, 0, 0)\n",
            "Traceback (most recent call last):\n",
            "  File \"/usr/lib/python3.6/socketserver.py\", line 320, in _handle_request_noblock\n",
            "    self.process_request(request, client_address)\n",
            "  File \"/usr/lib/python3.6/socketserver.py\", line 351, in process_request\n",
            "    self.finish_request(request, client_address)\n",
            "  File \"/usr/lib/python3.6/socketserver.py\", line 364, in finish_request\n",
            "    self.RequestHandlerClass(request, client_address, self)\n",
            "  File \"/usr/lib/python3.6/socketserver.py\", line 724, in __init__\n",
            "    self.handle()\n",
            "  File \"/usr/lib/python3.6/http/server.py\", line 418, in handle\n",
            "    self.handle_one_request()\n",
            "  File \"/usr/lib/python3.6/http/server.py\", line 406, in handle_one_request\n",
            "    method()\n",
            "  File \"/usr/lib/python3.6/http/server.py\", line 639, in do_GET\n",
            "    self.copyfile(f, self.wfile)\n",
            "  File \"/usr/lib/python3.6/http/server.py\", line 800, in copyfile\n",
            "    shutil.copyfileobj(source, outputfile)\n",
            "  File \"/usr/lib/python3.6/shutil.py\", line 82, in copyfileobj\n",
            "    fdst.write(buf)\n",
            "  File \"/usr/lib/python3.6/socketserver.py\", line 803, in write\n",
            "    self._sock.sendall(b)\n",
            "ConnectionResetError: [Errno 104] Connection reset by peer\n",
            "----------------------------------------\n"
          ],
          "name": "stderr"
        }
      ]
    },
    {
      "cell_type": "code",
      "metadata": {
        "id": "VNEL4CCcS0Oj",
        "colab_type": "code",
        "colab": {}
      },
      "source": [
        ""
      ],
      "execution_count": 0,
      "outputs": []
    }
  ]
}

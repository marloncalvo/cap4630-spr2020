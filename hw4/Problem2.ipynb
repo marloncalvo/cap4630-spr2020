{
  "nbformat": 4,
  "nbformat_minor": 0,
  "metadata": {
    "colab": {
      "name": "Problem2",
      "provenance": [],
      "collapsed_sections": [],
      "authorship_tag": "ABX9TyPVII133TGUKrEN+TkYti+/",
      "include_colab_link": true
    },
    "kernelspec": {
      "name": "python3",
      "display_name": "Python 3"
    }
  },
  "cells": [
    {
      "cell_type": "markdown",
      "metadata": {
        "id": "view-in-github",
        "colab_type": "text"
      },
      "source": [
        "<a href=\"https://colab.research.google.com/github/marloncalvo/cap4630-spr2020/blob/master/Problem2.ipynb\" target=\"_parent\"><img src=\"https://colab.research.google.com/assets/colab-badge.svg\" alt=\"Open In Colab\"/></a>"
      ]
    },
    {
      "cell_type": "markdown",
      "metadata": {
        "id": "2v6kTXJzdTmc",
        "colab_type": "text"
      },
      "source": [
        "# Problem 2 "
      ]
    },
    {
      "cell_type": "markdown",
      "metadata": {
        "id": "EZPX3o9XdWju",
        "colab_type": "text"
      },
      "source": [
        "We are implementing `maxpooling2d()` with numpy, utilizing the well known `im2loc` algorithm, where we can extract all the \"windows\" of a 2x2 grid imposed on the original data. These are returned as a matrix, where each column contains all the values for \"one window\". We simply take the max of each column for `maxpooling2d()`."
      ]
    },
    {
      "cell_type": "code",
      "metadata": {
        "id": "AevUwfdrDLs-",
        "colab_type": "code",
        "colab": {}
      },
      "source": [
        "import numpy as np\n",
        "\n",
        "def im2col(x, s):\n",
        "    rows = []\n",
        "    x_rows = x.shape[0]\n",
        "    x_cols = x.shape[1]\n",
        "\n",
        "    x_rows = x_rows if x_rows % 2 == 0 else x_rows - 1\n",
        "    x_cols = x_cols if x_cols % 2 == 0 else x_cols - 1\n",
        "\n",
        "    for row in range(0, x_rows, s):\n",
        "        for col in range(0, x_cols, s):\n",
        "            window = x[row: row + s, col: col + s]\n",
        "            rows.append(window.flatten())\n",
        "                        \n",
        "    xs = x.shape[0] if x.shape[0] % 2 == 0 else x.shape[0] - 1\n",
        "    ys = x.shape[1] if x.shape[1] % 2 == 0 else x.shape[1] - 1\n",
        "\n",
        "    return xs, ys, (np.transpose(np.array(rows)))"
      ],
      "execution_count": 0,
      "outputs": []
    },
    {
      "cell_type": "markdown",
      "metadata": {
        "id": "mRubR00Hd6Ib",
        "colab_type": "text"
      },
      "source": [
        "Since `im2loc` gives us data in cols, we just need to get max from each column."
      ]
    },
    {
      "cell_type": "code",
      "metadata": {
        "id": "4CHiJKMRDQVt",
        "colab_type": "code",
        "colab": {}
      },
      "source": [
        "def maxpooling2d(input_mat, s):\n",
        "  if s > input_mat.shape[0] or s > input_mat.shape[1]:\n",
        "    raise Exception('Pooling box greater than dimensions of input_mat')\n",
        "    \n",
        "  x, y, v = im2col(input_mat, s)\n",
        "  return np.amax(v, axis=0).reshape((int(x/s), int(y/s)))"
      ],
      "execution_count": 0,
      "outputs": []
    },
    {
      "cell_type": "code",
      "metadata": {
        "id": "-iMe_YfTEvbS",
        "colab_type": "code",
        "outputId": "69805e37-4241-4929-9c4a-6de7c2f2700d",
        "colab": {
          "base_uri": "https://localhost:8080/",
          "height": 187
        }
      },
      "source": [
        "import skimage.measure\n",
        "\n",
        "input_mat = []\n",
        "expected_mat = []\n",
        "s = []\n",
        "input_mat.append(np.array([[1, 2, 1, 2],\n",
        "                      [2, 4, 2, 1],\n",
        "                      [1, 2, 4, 2],\n",
        "                      [2, 1, 2, 1]]))\n",
        "s.append(2)\n",
        "\n",
        "expected_mat.append(np.array([[4, 2],\n",
        "                                [2, 4]]))\n",
        "\n",
        "input_mat.append(np.array([[1, 2, 1, 2, 4, 5],\n",
        "                      [2, 4, 2, 1, 0, 3],\n",
        "                      [1, 2, 4, 2, 4, 5],\n",
        "                      [2, 1, 2, 1, 2, 1],\n",
        "                      [1, 1, 2, 3, 1, 2],\n",
        "                      [1, 1, 2, 3, 1, 2]]))\n",
        "s.append(2)\n",
        "\n",
        "expected_mat.append([[4, 2, 5],\n",
        " [2, 4, 5],\n",
        " [1, 3, 2]])\n",
        "\n",
        "\n",
        "for i in range(len(input_mat)):\n",
        "  # uncomment top line and comment second line to test code\n",
        "  output_mat = maxpooling2d(input_mat[i], s[i])\n",
        "  # output_mat = skimage.measure.block_reduce(input_mat[i], (s[i],s[i]), np.max)\n",
        "\n",
        "  print(output_mat)\n",
        "  print(expected_mat[i])\n",
        "\n",
        "  if np.array_equal(output_mat, expected_mat[i]):\n",
        "    print(\"Correct output!\")\n",
        "  else:\n",
        "    print(\"Incorrect output!\")"
      ],
      "execution_count": 11,
      "outputs": [
        {
          "output_type": "stream",
          "text": [
            "[[4 2]\n",
            " [2 4]]\n",
            "[[4 2]\n",
            " [2 4]]\n",
            "Correct output!\n",
            "[[4 2 5]\n",
            " [2 4 5]\n",
            " [1 3 2]]\n",
            "[[4, 2, 5], [2, 4, 5], [1, 3, 2]]\n",
            "Correct output!\n"
          ],
          "name": "stdout"
        }
      ]
    },
    {
      "cell_type": "code",
      "metadata": {
        "id": "0RnkYCxIaXDK",
        "colab_type": "code",
        "colab": {
          "base_uri": "https://localhost:8080/",
          "height": 34
        },
        "outputId": "46f81a1a-6387-4a2e-f1f9-66a7efefd327"
      },
      "source": [
        "maxpooling2d(np.array([[1,2,3],[1,2,3],[1,2,3]]), 2)"
      ],
      "execution_count": 9,
      "outputs": [
        {
          "output_type": "execute_result",
          "data": {
            "text/plain": [
              "array([[2]])"
            ]
          },
          "metadata": {
            "tags": []
          },
          "execution_count": 9
        }
      ]
    }
  ]
}

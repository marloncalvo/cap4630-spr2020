{
  "nbformat": 4,
  "nbformat_minor": 0,
  "metadata": {
    "colab": {
      "name": "MatrixMultiplication.ipynb",
      "provenance": [],
      "collapsed_sections": [],
      "authorship_tag": "ABX9TyN13rWG9oQ88nyA/t8Jut1A",
      "include_colab_link": true
    },
    "kernelspec": {
      "name": "python3",
      "display_name": "Python 3"
    }
  },
  "cells": [
    {
      "cell_type": "markdown",
      "metadata": {
        "id": "view-in-github",
        "colab_type": "text"
      },
      "source": [
        "<a href=\"https://colab.research.google.com/github/marloncalvo/cap4630-spr2020/blob/master/MatrixMultiplication.ipynb\" target=\"_parent\"><img src=\"https://colab.research.google.com/assets/colab-badge.svg\" alt=\"Open In Colab\"/></a>"
      ]
    },
    {
      "cell_type": "markdown",
      "metadata": {
        "id": "x2AXZg2dBmWc",
        "colab_type": "text"
      },
      "source": [
        "# Chain Matrix Multiplication"
      ]
    },
    {
      "cell_type": "code",
      "metadata": {
        "id": "jVlozweLXSPH",
        "colab_type": "code",
        "colab": {}
      },
      "source": [
        "import numpy as np"
      ],
      "execution_count": 0,
      "outputs": []
    },
    {
      "cell_type": "markdown",
      "metadata": {
        "id": "a8W8QONDDfVC",
        "colab_type": "text"
      },
      "source": [
        "This function evaluates the matrix multiplication of a matrices chain. It takes in a list of NumPy arrays, where each NumPy array should be 2-dimensional.\n",
        "\n",
        "It follows that in each NumPy array, each contiguous block is treated as a row in the matrix.\n",
        "\n",
        "For example,\n",
        "\\begin{equation*}\n",
        "[[1,2,3],[4,5,6]] = \\begin{bmatrix}1 & 2 & 3\\\\ 4 & 5 & 6\\end{bmatrix}\n",
        "\\end{equation*}\n",
        "\n",
        "\n",
        "Per the specifications of matrix multiplication, as defined [here](https://en.wikipedia.org/wiki/Matrix_multiplication#Definition), it must be that:\n",
        "\n",
        "\n",
        "\\begin{equation*}\n",
        "  A = \\begin{bmatrix}\n",
        "  4 & 6 & 3 & 0\\\\\n",
        "  5 & 6 & 0 & 0\\\\\n",
        "  4 & 5 & 2 & 0\n",
        "  \\end{bmatrix}\n",
        "  ,\\;\n",
        "  B = \\begin{bmatrix}\n",
        "  2 & 1 & 3\\\\\n",
        "  7 & 1 & 1\\\\\n",
        "  3 & 0 & 5\\\\\n",
        "  7 & 8 & 6\n",
        "  \\end{bmatrix}\\\\\n",
        "A= m \\times n, \\; B = n \\times p, \\\\\n",
        "\\quad \\textrm{the inner dimensions for A and B are equal.} \\quad \\\\\n",
        "\\end{equation*}\n",
        "\n",
        "The resulting matrix would have dimension equal to the outer dimensions.\n",
        "\n",
        "\\begin{equation*}\n",
        "A \\times B = m \\times p\n",
        "\\end{equation*}\n",
        "\n",
        "Also, matrix multiplication is not commutative, so,\n",
        "\n",
        "\\begin{equation*}\n",
        "A \\times B \\neq B \\times A\n",
        "\\end{equation*}\n",
        "\n",
        "Final note: when doing chain matrix multiplication, please note the following.\n",
        "\n",
        "\\begin{equation*}\n",
        "A \\times B \\times C\\\\\n",
        "(m \\times n ) \\times (n \\times p) \\times (p \\times c)\n",
        "\\end{equation*}"
      ]
    },
    {
      "cell_type": "markdown",
      "metadata": {
        "id": "zKXJPIR3CwT_",
        "colab_type": "text"
      },
      "source": [
        "## Calculate Matrix Multiplication"
      ]
    },
    {
      "cell_type": "code",
      "metadata": {
        "id": "EbqlvKZuXh3z",
        "colab_type": "code",
        "colab": {}
      },
      "source": [
        "def multiply_matrices(matrices):\n",
        "\n",
        "  verify_matrices(matrices)\n",
        "\n",
        "  # Find optimal path for matrix multiplication\n",
        "  sol = min_number_ops(matrices)\n",
        "  return do_mult(0, len(matrices)-1, sol, matrices)\n",
        "\n",
        "def do_mult(i, j, sol, matrices):\n",
        "\n",
        "  if i is j:\n",
        "    return matrices[i]\n",
        "\n",
        "  mat_a = do_mult(i, sol[i][j], sol, matrices)\n",
        "  mat_b = do_mult(sol[i][j]+1, j, sol, matrices)\n",
        "\n",
        "  return np.matmul(mat_a, mat_b)\n",
        "\n",
        "def verify_matrices(matrices)\n",
        "  if len(matrices) <= 1:\n",
        "    raise ValueError(f\"\\\n",
        "    At least two matrices are required for matrix multiplication.\")\n",
        "\n",
        "  past = None\n",
        "  counter = 1\n",
        "  for matrix in matrices:\n",
        "    if past is None:\n",
        "      past = matrix\n",
        "    else:\n",
        "      (p_m, p_n) = past.shape\n",
        "      (c_m, c_n) = matrix.shape\n",
        "\n",
        "      if p_n is not c_m:\n",
        "        raise ValueError(f\"\\\n",
        "        \\nMismatched matrix dimensions. Matrix #{counter}'s n does not equal Matrix #{counter-1}'s m value.\\\n",
        "        \\nExpected (Mat#{counter-1}, Mat#{counter}) -> {p_m}x{p_n},{p_n}xP\\\n",
        "        \\nReceived (Mat#{counter-1}, Mat#{counter}) -> {p_m}x{p_n},{c_m}x{c_n}\")\n",
        "\n",
        "      past = matrix\n",
        "      \n",
        "def min_number_ops(matrices):\n",
        "\n",
        "  n = len(matrices)\n",
        "  inf = 1000000\n",
        "  dp = [[inf for col in range(n)] for row in range(n)]\n",
        "  ds = []\n",
        "\n",
        "  # Assuming the matrices are ok.\n",
        "  for matrix in matrices:\n",
        "    (a, b) = matrix.shape\n",
        "    ds.append(a)\n",
        "  \n",
        "  (a, b) = matrices[-1].shape\n",
        "  ds.append(b)\n",
        "\n",
        "  sol = [[0 for col in range(n)] for row in range(n)]\n",
        "\n",
        "  # Base case\n",
        "  for i in range(n):\n",
        "    dp[i][i] = 0\n",
        "\n",
        "  for i in reversed(range(n)):\n",
        "    for j in range(i+1, n):\n",
        "      for k in range(i, j):\n",
        "        if dp[i][j] > dp[i][k] + dp[k+1][j] + (ds[i] * ds[k+1] * ds[j+1]):\n",
        "          sol[i][j] = k\n",
        "\n",
        "        dp[i][j] = min(dp[i][j], dp[i][k] + dp[k+1][j] + (ds[i] * ds[k+1] * ds[j+1]))\n",
        "\n",
        "  return sol"
      ],
      "execution_count": 0,
      "outputs": []
    },
    {
      "cell_type": "code",
      "metadata": {
        "id": "meFSzYRnXrF4",
        "colab_type": "code",
        "outputId": "93b54044-fc14-48cc-8438-6c1efc71fdce",
        "colab": {
          "base_uri": "https://localhost:8080/",
          "height": 52
        }
      },
      "source": [
        "l = [\n",
        "  # 2x4 matrix\n",
        "  np.array([\n",
        "    [1,2,3,4],\n",
        "    [1,2,3,4],\n",
        "  ]),\n",
        "  # 4x2 matrix.\n",
        "  np.array([\n",
        "    [1,2],\n",
        "    [1,2],\n",
        "    [1,2],\n",
        "    [1,2],\n",
        "  ]),\n",
        "  # 2x3 matrix.\n",
        "  np.array([\n",
        "    [1,2,3],\n",
        "    [1,2,3]\n",
        "  ]),\n",
        "  # 3x1 matrix.\n",
        "  np.array([\n",
        "    [1],\n",
        "    [2],\n",
        "    [3]\n",
        "  ])\n",
        "]\n",
        "\n",
        "print (multiply_matrices(l))"
      ],
      "execution_count": 0,
      "outputs": [
        {
          "output_type": "stream",
          "text": [
            "[[420]\n",
            " [420]]\n"
          ],
          "name": "stdout"
        }
      ]
    },
    {
      "cell_type": "code",
      "metadata": {
        "id": "LaJfVMurbuuq",
        "colab_type": "code",
        "outputId": "a0c179e9-79f2-42a8-9eea-0f163942a550",
        "colab": {
          "base_uri": "https://localhost:8080/",
          "height": 52
        }
      },
      "source": [
        "l = [\n",
        "     np.array([\n",
        "               [1,2,3],\n",
        "               [1,2,3]\n",
        "     ]),\n",
        "     np.array([\n",
        "               [1],\n",
        "               [2],\n",
        "               [3]\n",
        "     ])\n",
        "]\n",
        "\n",
        "print (multiply_matrices(l))"
      ],
      "execution_count": 0,
      "outputs": [
        {
          "output_type": "stream",
          "text": [
            "[[14]\n",
            " [14]]\n"
          ],
          "name": "stdout"
        }
      ]
    }
  ]
}